{
 "cells": [
  {
   "cell_type": "markdown",
   "id": "763f0fa0-6584-44d4-b163-a891252769f9",
   "metadata": {},
   "source": [
    "# CS5228 Assignment 1 - EDA, Data Preparation & K-Means\n",
    "\n",
    "Hello everyone, this assignment notebook covers EDA, Data Preparation & K-Means. There are some code-completion tasks and question-answering tasks in this answer sheet. For code completion tasks, please write down your answer (i.e., your lines of code) between sentences that \"Your code starts here\" and \"Your code ends here\". The space between these two lines does not reflect the required or expected lines of code. For answers in plain text, you can refer to [this Markdown guide](https://medium.com/analytics-vidhya/the-ultimate-markdown-guide-for-jupyter-notebook-d5e5abf728fd) to customize the layout (although it shouldn't be needed).\n",
    "\n",
    "When you work on this notebook, you can insert additional code cells (e.g., for testing) or markdown cells (e.g., to keep track of your thoughts). However, before the submission, please remove all those additional cells again. Thanks!\n",
    "\n",
    "**Important:**\n",
    "* Rename and save this Jupyter notebook as **cs5228_a1_YourName_YourNUSNETID.ipynb** (e.g., **cs5228_a1_BobSmith_e12345678.ipynb**) before submission!\n",
    "* Rename and save the script file *cs5228_a1_script.py* as **cs5228_a1_YourName_YourNUSNETID.py** (e.g., **cs5228_a1_BobSmith_e12345678.py**) before submission!\n",
    "* Submission deadline is **Thursday, Sep 14, 11.59 pm**. Late submissions will be penalized by 10% for each additional day. Failure to appropriately rename both files will yield a penalty of 1 Point. There is no need to use your full name if it's rather long; it's just  important to easily identify you in Canvas etc.\n",
    "\n",
    "Please also add your NUSNET and student id in the code cell below. This is just to make any identification of your notebook doubly sure."
   ]
  },
  {
   "cell_type": "code",
   "execution_count": 4,
   "id": "119a3b10-7afe-4814-9a79-32310842f1c3",
   "metadata": {
    "ExecuteTime": {
     "end_time": "2023-09-02T16:16:32.389741300Z",
     "start_time": "2023-09-02T16:16:32.124095500Z"
    }
   },
   "outputs": [],
   "source": [
    "student_id = 'A0285647M'\n",
    "nusnet_id = 'e1216292'"
   ]
  },
  {
   "cell_type": "markdown",
   "id": "f7455d1c-31ad-4620-8d8a-ad2adc363f56",
   "metadata": {},
   "source": [
    "Here is an overview over the tasks to be solved and the points associated with each task. The notebook can appear very long and verbose, but note that a lot of parts provide additional explanations, documentation, or some discussion. The code and markdown cells you are supposed to complete are well, but you can use the overview below to double-check that you covered everything.\n",
    "\n",
    "* **1 Exploratory Data Analysis (EDA) & Data Preparation (30 Points)**\n",
    "    * 1.1 Removing \"Dirty\" Records (6 Points)\n",
    "    * 1.2 Handling Missing (NaN) Values (6 Points)\n",
    "    * 1.3 Other Appropriate Data Cleaning / Preprocessing Steps (6 Points)\n",
    "        * 1.3 a) Appropriate Steps (4 Points)\n",
    "        * 1.3 b) Additional Considerations (2 Points)\n",
    "    * 1.4 Handling Categorical Attributes (4 Points)\n",
    "    * 1.5 Basic Facts about Dataset (8 Points)\n",
    "* **2 K-Means (20 Points)**\n",
    "    * 2.1 Performing K-Means \"By Hand\" (4 Points)\n",
    "        * 2.1 a) Find Clusters for K=3 (2 Points)\n",
    "        * 2.1 b) Evaluate the Result (2 Points)\n",
    "    * 2.2 Initializing Centroids (10 Points)\n",
    "        * 2.2 a) Implement Initialization of Centroids (6 Points)\n",
    "        * 2.2 b) Interpreting MaxDist Initialization (2 Points)\n",
    "        * 2.2 c) Interpreting KMeans++ Initialization (2 Points)\n",
    "    * 2.3 Questions about K-Means (6 Points)\n",
    "        * 2.3 a) Empty Cluster (3 Points)\n",
    "        * 2.3 b) Outlier Detection (3 Points)"
   ]
  },
  {
   "cell_type": "markdown",
   "id": "60a4e6d6-30f8-4722-9750-4986c33fcccd",
   "metadata": {},
   "source": [
    "## Setting up the Notebook\n",
    "\n",
    "### Enable Auto-Reload\n",
    "\n",
    "This ensures that any saved changes to your `.py` file gets automatically reloaded."
   ]
  },
  {
   "cell_type": "code",
   "execution_count": 5,
   "id": "d3e1e3ad-9fa4-4f0b-9ed1-2bc5f99b7df4",
   "metadata": {
    "ExecuteTime": {
     "end_time": "2023-09-02T16:17:37.632789400Z",
     "start_time": "2023-09-02T16:17:37.465484800Z"
    }
   },
   "outputs": [],
   "source": [
    "%load_ext autoreload\n",
    "%autoreload 2"
   ]
  },
  {
   "cell_type": "markdown",
   "id": "90ab1f20-5a50-4772-86bf-905c8c5c9361",
   "metadata": {},
   "source": [
    "### Enable \"Inline Plotting\""
   ]
  },
  {
   "cell_type": "code",
   "execution_count": 6,
   "id": "f838a8d1-9662-448e-be49-b05333787a43",
   "metadata": {
    "ExecuteTime": {
     "end_time": "2023-09-02T16:17:40.925948500Z",
     "start_time": "2023-09-02T16:17:40.719681500Z"
    }
   },
   "outputs": [],
   "source": [
    "%matplotlib inline"
   ]
  },
  {
   "cell_type": "markdown",
   "id": "d8529e3a-0baf-40bd-bad0-f0186e30653d",
   "metadata": {},
   "source": [
    "### Importing Required Packages"
   ]
  },
  {
   "cell_type": "code",
   "execution_count": 1,
   "id": "4ca2bb72-8aa3-4d53-9d2a-e4953aa02592",
   "metadata": {
    "ExecuteTime": {
     "end_time": "2023-09-08T12:22:14.634776900Z",
     "start_time": "2023-09-08T12:22:11.977825600Z"
    }
   },
   "outputs": [],
   "source": [
    "import numpy as np\n",
    "import pandas as pd\n",
    "\n",
    "from src.utils import *"
   ]
  },
  {
   "cell_type": "markdown",
   "id": "befecf0d-9ea3-4355-abb3-6cc7b1daa7ec",
   "metadata": {},
   "source": [
    "**Important:** This notebook also requires you to complete in a separate `.py` script file. This keeps this notebook cleaner and simplifies testing your implementations for us. As you need to rename the file `cs5228_a1.py`, you also need to edit the import statement below accordingly."
   ]
  },
  {
   "cell_type": "code",
   "execution_count": 2,
   "id": "0c0827e5-fcc6-42d4-93df-96258a07cec3",
   "metadata": {
    "ExecuteTime": {
     "end_time": "2023-09-08T12:22:17.353835Z",
     "start_time": "2023-09-08T12:22:14.648027200Z"
    }
   },
   "outputs": [],
   "source": [
    "from cs5228_a1_ParasharaRamesh_e1216292  import *\n",
    "#from A1a_BobSmith_e12345678 import * # <-- you will need to rename this accordingly"
   ]
  },
  {
   "cell_type": "markdown",
   "id": "4e65ca2e-36ac-4d5e-aa5d-b5c5e39ba1a4",
   "metadata": {},
   "source": [
    "## 1. Exploratory Data Analysis (EDA) & Data Preparation\n",
    "\n",
    "### 1.1 Removing \"Dirty\" Records (6 Points)\n",
    "\n",
    "Assume that you have been tasked to build a regression model to predict the **resale prices of used cars** in Singapore. To this end, you get a dataset containing information about 15,000 past resale transactions, including the following information about the attributes:\n",
    "\n",
    "* **listing_id**: Unique ID of the listing; an integer number uniquely assigned to each listing. If this code starts with the letter 'C', it indicates a cancellation of the listing and is this an invalid listing.\n",
    "* **url**: URL of the website where the listing is posted as string value\n",
    "* **make**: The make/brand of the car as a string value of a valid car make (e.g., \"bmw\", \"honda\", \"mazda\", \"toyota\", \"mercedes-benz\").\n",
    "* **model**: The model of the car as a string value of a valid car model (e.g., \"e250\", \"outlander\", \"v60\", \"x1\", \"qashqai\").\n",
    "* **manufactured**: The year the car has been manufactured as an integer value.\n",
    "* **type_of_vehicle**: The type of the car as a string value of a valid vehicle type (e.g., \"luxury sedan\", \"mid-sized sedan\", \"suv\", \"hatchback\").\n",
    "* **power**: The power of the engine as an integer value in kW (kilowatt)\n",
    "* **engine_cap**: Size/capacity of the engine as integer value in cc (cubic centimeter)\n",
    "* **curb_weight**: the weight of the vehicle including a full tank of fuel and all standard equipment in kg (kilogram)\n",
    "* **no_of_owners**: Number of previous owners as integer value >= 1 (used cars only).\n",
    "* **mileage**: Mileage of car as integer value in km (kilometer)\n",
    "* **price**: Resale price of the car in Singapore dollars.\n",
    "\n",
    "Let's have a first look at the data:"
   ]
  },
  {
   "cell_type": "code",
   "execution_count": 9,
   "id": "41de30c2-45a5-4b51-9f56-659dc2119986",
   "metadata": {
    "ExecuteTime": {
     "end_time": "2023-09-02T16:18:00.397128900Z",
     "start_time": "2023-09-02T16:17:59.935064400Z"
    }
   },
   "outputs": [
    {
     "data": {
      "text/plain": "  listing_id                                        url           make  \\\n0     983884   https://www.sgcarmart.com/listing/983884         nissan   \n1    1026259  https://www.sgcarmart.com/listing/1026259     volkswagen   \n2    1002033  https://www.sgcarmart.com/listing/1002033         suzuki   \n3    1030109  https://www.sgcarmart.com/listing/1030109            kia   \n4    1013252  https://www.sgcarmart.com/listing/1013252        porsche   \n5    1026589  https://www.sgcarmart.com/listing/1026589         toyota   \n6    1024394  https://www.sgcarmart.com/listing/1024394            bmw   \n7    1014304  https://www.sgcarmart.com/listing/1014304         toyota   \n8    1003345  https://www.sgcarmart.com/listing/1003345  mercedes-benz   \n9    1022878  https://www.sgcarmart.com/listing/1022878  mercedes-benz   \n\n     model  manufactured  type_of_vehicle  power  engine_cap curb_weight  \\\n0  qashqai          2015              suv     85        1197        1285   \n1     golf          2010       sports car    188        1984        1466   \n2   vitara          2016              suv     88        1586        1160   \n3  picanto          2007        hatchback     47        1086         852   \n4  cayenne          2014              suv    193        2967        2185   \n5     c-hr          2018              suv     90        1797        1440   \n6       x4          2014              suv    225        2979        1815   \n7  corolla          2012  mid-sized sedan     90        1598        1195   \n8      amg          2010       sports car    200        3498        1765   \n9     c180          2009     luxury sedan    115        1796        1495   \n\n   no_of_owners  mileage   price  \n0             2    80000   52800  \n1             6   149000  105800  \n2             1    84000   55800  \n3             2   105000    8888  \n4             3   108650  162800  \n5             1    50000   93000  \n6             2    78000  128000  \n7             3   130000   18900  \n8             3   117000  106088  \n9             3   108000   65800  ",
      "text/html": "<div>\n<style scoped>\n    .dataframe tbody tr th:only-of-type {\n        vertical-align: middle;\n    }\n\n    .dataframe tbody tr th {\n        vertical-align: top;\n    }\n\n    .dataframe thead th {\n        text-align: right;\n    }\n</style>\n<table border=\"1\" class=\"dataframe\">\n  <thead>\n    <tr style=\"text-align: right;\">\n      <th></th>\n      <th>listing_id</th>\n      <th>url</th>\n      <th>make</th>\n      <th>model</th>\n      <th>manufactured</th>\n      <th>type_of_vehicle</th>\n      <th>power</th>\n      <th>engine_cap</th>\n      <th>curb_weight</th>\n      <th>no_of_owners</th>\n      <th>mileage</th>\n      <th>price</th>\n    </tr>\n  </thead>\n  <tbody>\n    <tr>\n      <th>0</th>\n      <td>983884</td>\n      <td>https://www.sgcarmart.com/listing/983884</td>\n      <td>nissan</td>\n      <td>qashqai</td>\n      <td>2015</td>\n      <td>suv</td>\n      <td>85</td>\n      <td>1197</td>\n      <td>1285</td>\n      <td>2</td>\n      <td>80000</td>\n      <td>52800</td>\n    </tr>\n    <tr>\n      <th>1</th>\n      <td>1026259</td>\n      <td>https://www.sgcarmart.com/listing/1026259</td>\n      <td>volkswagen</td>\n      <td>golf</td>\n      <td>2010</td>\n      <td>sports car</td>\n      <td>188</td>\n      <td>1984</td>\n      <td>1466</td>\n      <td>6</td>\n      <td>149000</td>\n      <td>105800</td>\n    </tr>\n    <tr>\n      <th>2</th>\n      <td>1002033</td>\n      <td>https://www.sgcarmart.com/listing/1002033</td>\n      <td>suzuki</td>\n      <td>vitara</td>\n      <td>2016</td>\n      <td>suv</td>\n      <td>88</td>\n      <td>1586</td>\n      <td>1160</td>\n      <td>1</td>\n      <td>84000</td>\n      <td>55800</td>\n    </tr>\n    <tr>\n      <th>3</th>\n      <td>1030109</td>\n      <td>https://www.sgcarmart.com/listing/1030109</td>\n      <td>kia</td>\n      <td>picanto</td>\n      <td>2007</td>\n      <td>hatchback</td>\n      <td>47</td>\n      <td>1086</td>\n      <td>852</td>\n      <td>2</td>\n      <td>105000</td>\n      <td>8888</td>\n    </tr>\n    <tr>\n      <th>4</th>\n      <td>1013252</td>\n      <td>https://www.sgcarmart.com/listing/1013252</td>\n      <td>porsche</td>\n      <td>cayenne</td>\n      <td>2014</td>\n      <td>suv</td>\n      <td>193</td>\n      <td>2967</td>\n      <td>2185</td>\n      <td>3</td>\n      <td>108650</td>\n      <td>162800</td>\n    </tr>\n    <tr>\n      <th>5</th>\n      <td>1026589</td>\n      <td>https://www.sgcarmart.com/listing/1026589</td>\n      <td>toyota</td>\n      <td>c-hr</td>\n      <td>2018</td>\n      <td>suv</td>\n      <td>90</td>\n      <td>1797</td>\n      <td>1440</td>\n      <td>1</td>\n      <td>50000</td>\n      <td>93000</td>\n    </tr>\n    <tr>\n      <th>6</th>\n      <td>1024394</td>\n      <td>https://www.sgcarmart.com/listing/1024394</td>\n      <td>bmw</td>\n      <td>x4</td>\n      <td>2014</td>\n      <td>suv</td>\n      <td>225</td>\n      <td>2979</td>\n      <td>1815</td>\n      <td>2</td>\n      <td>78000</td>\n      <td>128000</td>\n    </tr>\n    <tr>\n      <th>7</th>\n      <td>1014304</td>\n      <td>https://www.sgcarmart.com/listing/1014304</td>\n      <td>toyota</td>\n      <td>corolla</td>\n      <td>2012</td>\n      <td>mid-sized sedan</td>\n      <td>90</td>\n      <td>1598</td>\n      <td>1195</td>\n      <td>3</td>\n      <td>130000</td>\n      <td>18900</td>\n    </tr>\n    <tr>\n      <th>8</th>\n      <td>1003345</td>\n      <td>https://www.sgcarmart.com/listing/1003345</td>\n      <td>mercedes-benz</td>\n      <td>amg</td>\n      <td>2010</td>\n      <td>sports car</td>\n      <td>200</td>\n      <td>3498</td>\n      <td>1765</td>\n      <td>3</td>\n      <td>117000</td>\n      <td>106088</td>\n    </tr>\n    <tr>\n      <th>9</th>\n      <td>1022878</td>\n      <td>https://www.sgcarmart.com/listing/1022878</td>\n      <td>mercedes-benz</td>\n      <td>c180</td>\n      <td>2009</td>\n      <td>luxury sedan</td>\n      <td>115</td>\n      <td>1796</td>\n      <td>1495</td>\n      <td>3</td>\n      <td>108000</td>\n      <td>65800</td>\n    </tr>\n  </tbody>\n</table>\n</div>"
     },
     "execution_count": 9,
     "metadata": {},
     "output_type": "execute_result"
    }
   ],
   "source": [
    "df_cars_dirty = pd.read_csv('data/a1-used-cars-resale-dirty.csv')\n",
    "\n",
    "df_cars_dirty.head(10)"
   ]
  },
  {
   "cell_type": "code",
   "execution_count": 10,
   "id": "73782838-04d0-4ddb-95b8-5bcb8a639083",
   "metadata": {
    "ExecuteTime": {
     "end_time": "2023-09-02T16:18:02.005788Z",
     "start_time": "2023-09-02T16:18:01.789902200Z"
    }
   },
   "outputs": [
    {
     "name": "stdout",
     "output_type": "stream",
     "text": [
      "Number of records: 15000\n"
     ]
    }
   ],
   "source": [
    "print('Number of records: {}'.format(len(df_cars_dirty)))"
   ]
  },
  {
   "cell_type": "markdown",
   "id": "92a48de5-4d9a-4663-a70d-05cfe65050f2",
   "metadata": {},
   "source": [
    "If you check the dataset against its description as given above -- with the help of `pandas` or by simply inspecting the raw data file -- you will notice that many records are \"dirty\", meaning they are not in the expected format. Dirty records can negatively affect any subsequent analysis it needs.\n",
    "\n",
    "**Perform EDA on the Used Cars Resale Price dataset and perform appropriate preprocessing steps to clean the data!**\n",
    "The preprocessing step for cleaning the data step may include\n",
    "* the *removal* of \"dirty records\" or\n",
    "* the *modification* of \"dirty records\" records\n",
    "\n",
    "**Task 1: Identify at least 3 issues** with the dataset that would negatively affect any subsequent analysis, and clean the data accordingly.\n",
    "\n",
    "**Important:**\n",
    "\n",
    "* Recall from the lecture that data cleaning often involves making certain decisions. As such, you might come up with different steps than other students. This is OK as long as you can reasonably justify your steps.\n",
    "* The goal is to preserve as much of the records as possible! So only remove records as part of your data cleaning if it's really necessary (this includes that you should not remove any attributes!). There might be different valid cases, so don't forget to briefly justify your decision.\n",
    "* For this task, we are **not** trying to identify \"noise\" (e.g., outliers in the form of suspicious values) or `NaN` values; this will be covered later. Here, we look for records with values not eligible to be used for an analysis because they do not adhere to the data description.\n",
    "\n",
    "Please provide your answer below. It should list the different issues you have identified and briefly discuss which data cleaning steps you can and/or need to perform to address those issues.\n",
    "\n",
    "**Your answer:**\n",
    "Here are the issues from the given dataset:\n",
    "1. the \"**manufactured**\" column has values which are greater than the current year (i.e. in the future). These values have to be removed\n",
    "2. the \"**no_of_owners**\" column has values which are lesser than 1. (e.g. -1 in many places which doesn't make sense as this is supposed to be a positive number greater than 1 to indicate no of owners who owned this car previously\n",
    "3. the \"**curb_weight**\" column is supposed to be a number indicating the weight, but there are also lots of values which are strings (e.g. \"XXXXX\")\n"
   ]
  },
  {
   "cell_type": "markdown",
   "id": "661489b1-22b4-44b2-9047-43b5e5faa09e",
   "metadata": {},
   "source": [
    "**Task 2: Complete the method `clean` in the `.py` file to actually implement your steps for handling \"dirty\" records!** The results should back up your answer above. Hint: Try to use methods/functionalities provided by `pandas` as much as possible; it will make your code much shorter, faster and your life easier. We will run performance checks for this method to evaluate the runtime, but the performance is not considered for the grading!"
   ]
  },
  {
   "cell_type": "code",
   "execution_count": 14,
   "id": "b01ca23b-812c-4c31-a0ad-ca5db585b4d2",
   "metadata": {
    "ExecuteTime": {
     "end_time": "2023-09-02T16:18:08.964518700Z",
     "start_time": "2023-09-02T16:18:08.761337400Z"
    }
   },
   "outputs": [
    {
     "name": "stdout",
     "output_type": "stream",
     "text": [
      "After preprocessing, there are now 13972 records.\n"
     ]
    }
   ],
   "source": [
    "df_cars_cleaned = clean(df_cars_dirty)\n",
    "\n",
    "print('After preprocessing, there are now {} records.'.format(df_cars_cleaned.shape[0]))\n",
    "\n",
    "#The numbers match my initial analysis"
   ]
  },
  {
   "cell_type": "markdown",
   "id": "b433df0f-b658-4284-8b93-01583e18b5f9",
   "metadata": {},
   "source": [
    "### 1.2 Handling Missing (NaN) Values (6 Points)\n",
    "\n",
    "Many traditional data mining algorithms do not like missing (NaN) values and will throw an error if missing values are present. We therefore have to address missing values and get rid of them. On the other hand, we want to preserve as much of our dataset as possible, so we need to be smart about that. In this subtask, you are provided with a version of our used cars resale dataset that contains missing values but is otherwise clean -- so it is all about the `NaN` values here.\n",
    "\n",
    "Let's load the dataset and have a quick look -- the attributes are the same as before:"
   ]
  },
  {
   "cell_type": "code",
   "execution_count": 15,
   "id": "88766e6f-dd8a-46e3-8eff-9f5541330be1",
   "metadata": {
    "ExecuteTime": {
     "end_time": "2023-09-02T16:18:12.163445800Z",
     "start_time": "2023-09-02T16:18:11.836710800Z"
    }
   },
   "outputs": [
    {
     "data": {
      "text/plain": "   listing_id                                        url           make  \\\n0     1023911  https://www.sgcarmart.com/listing/1023911         toyota   \n1     1022346  https://www.sgcarmart.com/listing/1022346         toyota   \n2     1017880  https://www.sgcarmart.com/listing/1017880        citroen   \n3     1022468  https://www.sgcarmart.com/listing/1022468        renault   \n4     1026440  https://www.sgcarmart.com/listing/1026440  mercedes-benz   \n\n     model  manufactured  type_of_vehicle  power  engine_cap  curb_weight  \\\n0  corolla          2009  mid-sized sedan     81        1496       1130.0   \n1   estima          2007              mpv    125        2362       1710.0   \n2       c3          2018              suv     81        1199       1203.0   \n3    grand          2015              mpv     81        1461       1539.0   \n4     e200          2009     luxury sedan    135        1796       1615.0   \n\n   no_of_owners   mileage    price  \n0             3  127450.0  20800.0  \n1             4  103000.0  52500.0  \n2             1   35000.0  68000.0  \n3             1   80848.0  52800.0  \n4             2  116199.0  73800.0  ",
      "text/html": "<div>\n<style scoped>\n    .dataframe tbody tr th:only-of-type {\n        vertical-align: middle;\n    }\n\n    .dataframe tbody tr th {\n        vertical-align: top;\n    }\n\n    .dataframe thead th {\n        text-align: right;\n    }\n</style>\n<table border=\"1\" class=\"dataframe\">\n  <thead>\n    <tr style=\"text-align: right;\">\n      <th></th>\n      <th>listing_id</th>\n      <th>url</th>\n      <th>make</th>\n      <th>model</th>\n      <th>manufactured</th>\n      <th>type_of_vehicle</th>\n      <th>power</th>\n      <th>engine_cap</th>\n      <th>curb_weight</th>\n      <th>no_of_owners</th>\n      <th>mileage</th>\n      <th>price</th>\n    </tr>\n  </thead>\n  <tbody>\n    <tr>\n      <th>0</th>\n      <td>1023911</td>\n      <td>https://www.sgcarmart.com/listing/1023911</td>\n      <td>toyota</td>\n      <td>corolla</td>\n      <td>2009</td>\n      <td>mid-sized sedan</td>\n      <td>81</td>\n      <td>1496</td>\n      <td>1130.0</td>\n      <td>3</td>\n      <td>127450.0</td>\n      <td>20800.0</td>\n    </tr>\n    <tr>\n      <th>1</th>\n      <td>1022346</td>\n      <td>https://www.sgcarmart.com/listing/1022346</td>\n      <td>toyota</td>\n      <td>estima</td>\n      <td>2007</td>\n      <td>mpv</td>\n      <td>125</td>\n      <td>2362</td>\n      <td>1710.0</td>\n      <td>4</td>\n      <td>103000.0</td>\n      <td>52500.0</td>\n    </tr>\n    <tr>\n      <th>2</th>\n      <td>1017880</td>\n      <td>https://www.sgcarmart.com/listing/1017880</td>\n      <td>citroen</td>\n      <td>c3</td>\n      <td>2018</td>\n      <td>suv</td>\n      <td>81</td>\n      <td>1199</td>\n      <td>1203.0</td>\n      <td>1</td>\n      <td>35000.0</td>\n      <td>68000.0</td>\n    </tr>\n    <tr>\n      <th>3</th>\n      <td>1022468</td>\n      <td>https://www.sgcarmart.com/listing/1022468</td>\n      <td>renault</td>\n      <td>grand</td>\n      <td>2015</td>\n      <td>mpv</td>\n      <td>81</td>\n      <td>1461</td>\n      <td>1539.0</td>\n      <td>1</td>\n      <td>80848.0</td>\n      <td>52800.0</td>\n    </tr>\n    <tr>\n      <th>4</th>\n      <td>1026440</td>\n      <td>https://www.sgcarmart.com/listing/1026440</td>\n      <td>mercedes-benz</td>\n      <td>e200</td>\n      <td>2009</td>\n      <td>luxury sedan</td>\n      <td>135</td>\n      <td>1796</td>\n      <td>1615.0</td>\n      <td>2</td>\n      <td>116199.0</td>\n      <td>73800.0</td>\n    </tr>\n  </tbody>\n</table>\n</div>"
     },
     "execution_count": 15,
     "metadata": {},
     "output_type": "execute_result"
    }
   ],
   "source": [
    "df_cars_nan = pd.read_csv('data/a1-used-cars-resale-nan.csv')\n",
    "\n",
    "df_cars_nan.head()"
   ]
  },
  {
   "cell_type": "markdown",
   "id": "ab426740-2832-4d80-9194-88a6ce08a488",
   "metadata": {},
   "source": [
    "Since your decision for handling `NaN` values might depend in the data mining task, assume in the following that you want to use this dataset to **create a regression model to predict the resale price** from the attributes of a transaction. Of course, there will be no need to actually create such a model here.\n",
    "\n",
    "**Task 1: Identify all `NaN` values in the dataset and handle them appropriately!** After this preprocessing, the resulting dataset should no longer contain any `NaN` values. Please provide your answer in the markdown cell below list all issues concerning `NaN` values and how you would handle them with a brief justification for your approach. Additional (simplifying) guidelines:\n",
    "\n",
    "* The goal is to preserve as many records in the dataset as possible.\n",
    "* You do not need to consider external knowledge (i.e., information coming from outside this dataset)\n",
    "* Ignore more sophisticated solutions such as [`sklearn.impute.KNNImputer`](https://scikit-learn.org/stable/modules/generated/sklearn.impute.KNNImputer.html). These can be very useful in practice (and maybe for your project), but their application requires certain assumptions to hold for good results. This is beyond the scope of this assignment.\n",
    "\n",
    "**Your Answer:**\n",
    "\n",
    "By using a profiling tool called as \"pandas_profiling\" ( generated html report is present in the same report). It is clear that the following columns have missing values:\n",
    "\n",
    "1. url\n",
    "2. make\n",
    "3. mileage\n",
    "4. price\n",
    "\n",
    "Since url and make are arbitrary strings for which nothing can be figured out in terms of filling the missing value we can just remove all the rows where \"url\" and \"make\" are NaN\n",
    "\n",
    "However, for price and mileage we can perhaps compute the average value and fill it up\n"
   ]
  },
  {
   "cell_type": "code",
   "execution_count": 16,
   "outputs": [
    {
     "name": "stdout",
     "output_type": "stream",
     "text": [
      "No of points in the df_cars_nan dataframe is 15000\n"
     ]
    }
   ],
   "source": [
    "print(f\"No of points in the df_cars_nan dataframe is {len(df_cars_nan)}\")"
   ],
   "metadata": {
    "collapsed": false,
    "ExecuteTime": {
     "end_time": "2023-09-02T16:18:19.069592100Z",
     "start_time": "2023-09-02T16:18:18.901832700Z"
    }
   }
  },
  {
   "cell_type": "markdown",
   "id": "337bc09e-0eae-4d3f-9746-9ae52db85187",
   "metadata": {},
   "source": [
    "**Task 2: Complete the method `handle_nan` in the `.py` file to actually implement your steps for handling `NaN` values!** The results should back up your answer above. Hint: Try to use methods/functionalities provided by `pandas` as much as possible; it will make your code much shorter, faster and your life easier. We will run performance checks for this method to evaluate the runtime, but the performance is not considered for the grading!"
   ]
  },
  {
   "cell_type": "code",
   "execution_count": 21,
   "id": "d84e4ab6-1b72-4919-bc75-42058dd1e1f4",
   "metadata": {
    "ExecuteTime": {
     "end_time": "2023-09-02T16:18:31.567562300Z",
     "start_time": "2023-09-02T16:18:26.358661600Z"
    }
   },
   "outputs": [
    {
     "name": "stdout",
     "output_type": "stream",
     "text": [
      "After handling missing values, there are now 12604 records.\n",
      "Number of records with an NaN for any attribute: 0\n"
     ]
    }
   ],
   "source": [
    "df_cars_no_nan = handle_nan(df_cars_nan)\n",
    "\n",
    "print('After handling missing values, there are now {} records.'.format(df_cars_no_nan.shape[0]))\n",
    "print('Number of records with an NaN for any attribute: {}'.format((df_cars_no_nan.isna().sum(axis=1) > 0).sum()))"
   ]
  },
  {
   "cell_type": "markdown",
   "id": "4a89c6d3-5a77-4b3c-86ab-2de6a45df91c",
   "metadata": {},
   "source": [
    "### 1.3 Other Appropriate Data Cleaning / Preprocessing Steps (6 Points)\n",
    "\n",
    "Identifying \"dirty\" records and missing data are two very fundamental and generally rather systematic steps as part of data cleaning / data preprocessing. However, as we saw in the lecture using some examples, there are many other issues with the dataset that can be considered noise and thus potentially negatively affecting any data analysis. So the more noise we can remove, the more likely we can expect meaning analysis results.\n",
    "\n",
    "For this subtask, we use a version of our Used Cars Resale dataset **with no \"dirty\" records or missing data**! Note that this dataset has a few more attributes: `eco_category`, `transmission`, and `reg_date` (registration date). Let's have a look:"
   ]
  },
  {
   "cell_type": "code",
   "execution_count": 22,
   "id": "229d1e59-7ae3-4cb6-94e6-3c71c3a8cc97",
   "metadata": {
    "ExecuteTime": {
     "end_time": "2023-09-02T16:18:32.068089200Z",
     "start_time": "2023-09-02T16:18:31.503442600Z"
    }
   },
   "outputs": [
    {
     "data": {
      "text/plain": "   listing_id                                        url         make  \\\n0     1004862  https://www.sgcarmart.com/listing/1004862  Lamborghini   \n1     1004953  https://www.sgcarmart.com/listing/1004953   Mitsubishi   \n2     1031276  https://www.sgcarmart.com/listing/1031276       toyota   \n3     1024287  https://www.sgcarmart.com/listing/1024287   volkswagen   \n4     1023453  https://www.sgcarmart.com/listing/1023453          bmw   \n\n      model  manufactured     reg_date  type_of_vehicle   eco_category  \\\n0  gallardo          2011  06-jan-2012       sports car  uncategorized   \n1   attrage          2016  31-jul-2017  mid-sized_sedan  uncategorized   \n2      vios          2018  21-nov-2018  mid-sized sedan  uncategorized   \n3      golf          2016  18-nov-2016        hatchback  uncategorized   \n4      216d          2016  24-nov-2016              mpv  uncategorized   \n\n  transmission  power  engine_cap  curb_weight  no_of_owners  mileage   price  \n0         auto    412        5204         1500             5    49000  362800  \n1         auto     57        1193          940             2    90000   43800  \n2         auto     79        1496         1085             1    20270   56666  \n3         auto     81        1197         1229             1    60000   54200  \n4         auto     85        1496         1480             2    80000  103000  ",
      "text/html": "<div>\n<style scoped>\n    .dataframe tbody tr th:only-of-type {\n        vertical-align: middle;\n    }\n\n    .dataframe tbody tr th {\n        vertical-align: top;\n    }\n\n    .dataframe thead th {\n        text-align: right;\n    }\n</style>\n<table border=\"1\" class=\"dataframe\">\n  <thead>\n    <tr style=\"text-align: right;\">\n      <th></th>\n      <th>listing_id</th>\n      <th>url</th>\n      <th>make</th>\n      <th>model</th>\n      <th>manufactured</th>\n      <th>reg_date</th>\n      <th>type_of_vehicle</th>\n      <th>eco_category</th>\n      <th>transmission</th>\n      <th>power</th>\n      <th>engine_cap</th>\n      <th>curb_weight</th>\n      <th>no_of_owners</th>\n      <th>mileage</th>\n      <th>price</th>\n    </tr>\n  </thead>\n  <tbody>\n    <tr>\n      <th>0</th>\n      <td>1004862</td>\n      <td>https://www.sgcarmart.com/listing/1004862</td>\n      <td>Lamborghini</td>\n      <td>gallardo</td>\n      <td>2011</td>\n      <td>06-jan-2012</td>\n      <td>sports car</td>\n      <td>uncategorized</td>\n      <td>auto</td>\n      <td>412</td>\n      <td>5204</td>\n      <td>1500</td>\n      <td>5</td>\n      <td>49000</td>\n      <td>362800</td>\n    </tr>\n    <tr>\n      <th>1</th>\n      <td>1004953</td>\n      <td>https://www.sgcarmart.com/listing/1004953</td>\n      <td>Mitsubishi</td>\n      <td>attrage</td>\n      <td>2016</td>\n      <td>31-jul-2017</td>\n      <td>mid-sized_sedan</td>\n      <td>uncategorized</td>\n      <td>auto</td>\n      <td>57</td>\n      <td>1193</td>\n      <td>940</td>\n      <td>2</td>\n      <td>90000</td>\n      <td>43800</td>\n    </tr>\n    <tr>\n      <th>2</th>\n      <td>1031276</td>\n      <td>https://www.sgcarmart.com/listing/1031276</td>\n      <td>toyota</td>\n      <td>vios</td>\n      <td>2018</td>\n      <td>21-nov-2018</td>\n      <td>mid-sized sedan</td>\n      <td>uncategorized</td>\n      <td>auto</td>\n      <td>79</td>\n      <td>1496</td>\n      <td>1085</td>\n      <td>1</td>\n      <td>20270</td>\n      <td>56666</td>\n    </tr>\n    <tr>\n      <th>3</th>\n      <td>1024287</td>\n      <td>https://www.sgcarmart.com/listing/1024287</td>\n      <td>volkswagen</td>\n      <td>golf</td>\n      <td>2016</td>\n      <td>18-nov-2016</td>\n      <td>hatchback</td>\n      <td>uncategorized</td>\n      <td>auto</td>\n      <td>81</td>\n      <td>1197</td>\n      <td>1229</td>\n      <td>1</td>\n      <td>60000</td>\n      <td>54200</td>\n    </tr>\n    <tr>\n      <th>4</th>\n      <td>1023453</td>\n      <td>https://www.sgcarmart.com/listing/1023453</td>\n      <td>bmw</td>\n      <td>216d</td>\n      <td>2016</td>\n      <td>24-nov-2016</td>\n      <td>mpv</td>\n      <td>uncategorized</td>\n      <td>auto</td>\n      <td>85</td>\n      <td>1496</td>\n      <td>1480</td>\n      <td>2</td>\n      <td>80000</td>\n      <td>103000</td>\n    </tr>\n  </tbody>\n</table>\n</div>"
     },
     "execution_count": 22,
     "metadata": {},
     "output_type": "execute_result"
    }
   ],
   "source": [
    "df_cars_others = pd.read_csv('data/a1-used-cars-resale-other.csv')\n",
    "\n",
    "df_cars_others.head()"
   ]
  },
  {
   "cell_type": "markdown",
   "id": "aa2ecde7-99e0-4828-8abd-daa0403818fe",
   "metadata": {},
   "source": [
    "#### 1.3 a) Appropriate Steps (4 Points)\n",
    "\n",
    "**List at least 4 data cleaning / data preprocessing steps you deem appropriate to apply to the dataset above!** Please provide your answer in the markdown cell below list all steps together with a justification for your decision. Additional (simplifying) guidelines:\n",
    "\n",
    "* You should still assume that we want to use this dataset to create a model for predicting the resale price of a flat based on its attributes. The choice of data mining task is very likely to affect your decision for what cleaning / preprocessing steps to apply.\n",
    "* There is no need to consider external knowledge. For example, you do not have to check if a value for `model` is indeed an existing car model.\n",
    "* Please do not address the concept of attribute encoding -- that is, the encoding of categorical attributes as numerical attributes -- in this subtask. This comes later.\n",
    "* There is no need for you to implement any processing steps! Most important are your justifications for your decisions.\n",
    "\n",
    "**Your Answer:**\n",
    "\n",
    "1. We can drop the 'listing_id' column as this column does not have any positive correlation in figuring out the price\n",
    "2. We can drop the 'url' column as this column does not have any positive correlation in figuring out the price\n",
    "3. The 'eco_category' has nothing insightful to offer as all the values are just \"uncategorized\". Therefore we can safely drop this column!\n",
    "4. The 'manufactured' has dates which are set in the future i.e. > 2023 which need to be fixed . We can refer to the year value in the column 'reg_date'\n",
    "5. There are also a handful of values in the 'manufactured' column which does not match the year value in the 'reg_date' column which can be rectified\n",
    "6. As an additional data transformation task we can convert the date value in the 'reg_date' into something more consistent like a unix timestamp."
   ]
  },
  {
   "cell_type": "markdown",
   "id": "cd622442-a3bb-4b77-84b7-dbb42ddfebfd",
   "metadata": {},
   "source": [
    "#### 1.3 b) Additional Considerations (2 Points)\n",
    "\n",
    "So far, we handled \"dirty\" records, missing values, and other types of (arguably) straightforward EDA/preprocessing steps. This means that we performed important steps towards ensuring a minimum level of data quality to, in turn, enable a successful data analysis and meaningful results. However, this does not mean that our dataset is now free of any noise.\n",
    "\n",
    "**Briefly discuss what other kind of noise our dataset might still contain?** Include a brief explanation if and how we could identify and handle these instances of noisy data -- if possible in a meaningful way. There is no need to analyze and check the dataset to find any examples. This question is mainly to motivate some additional thinking.\n",
    "\n",
    "**Your Answer:**\n",
    "\n",
    "There are mainly two more steps which we can do :\n",
    "1. Remove/merge data duplicates\n",
    "2. Normalize values\n",
    "\n",
    "I. Remove/Merge duplicate rows\n",
    "* For this we would need to firstly find out how many duplicates exist. Do this we can perhaps group by all columns (which should ideally be unique) and find out rows where the count of each group is greater than 1.\n",
    "* Once we identify the duplicate rows, we can remove all the duplicate rows except for one by keeping that as the primary row for the sake for the sake of further analysis\n",
    "\n",
    "II. Normalize values\n",
    "* All of the numerical values in the dataframe like 'curb_weight', 'price', 'mileage', 'engine_cap' & 'power' can be normalized to values between 0 & 1 in order to learn the correlations between features in an easier manner"
   ]
  },
  {
   "cell_type": "markdown",
   "id": "37d3f625-674d-4fa2-894a-7f0f20aa9415",
   "metadata": {},
   "source": [
    "### 1.4 Handling Categorical Attributes (4 Points)\n",
    "\n",
    "Many to most data mining algorithms require all input features / attributes to be numerical. Our dataset with transactions resales of condo flats contains attributes that are not all numerical. As such, assuming we indeed want to utilize them, we need to convert those attributes into numerical ones. Regarding encoding techniques, we covered [One-Hot Encoding](https://scikit-learn.org/stable/modules/generated/sklearn.preprocessing.OneHotEncoder.html) in the lecture, and also talked about [Target Encoding](https://contrib.scikit-learn.org/category_encoders/targetencoder.html) in the tutorial; you can and should also look into other encoding techniques.\n",
    "\n",
    "For this task, we assume the same dataset file used in 1.3 (`a1-used-cars-resale-others.csv`).\n",
    "\n",
    "**Briefly(!) discuss how you would handle each categorical attribute and justify why!** Handling a categorical attribute means\n",
    "* to drop a categorical attribute *or*\n",
    "* to encode it into a numerical representation *or*\n",
    "* to otherwise transform it into a numerical attribute\n",
    "\n",
    "There is no single correct answer for this task; it's your justification that matters. Again, assume that we want to create a regression model to predict the resale price of a flat based on the other features.\n",
    "\n",
    "**Your Answer:**\n",
    "\n",
    "Here are the list of categorical attributes in the dataset along with the action taken with justifications:\n",
    "\n",
    "**1. listing_id**:can be\n",
    "- This is an ordinal categorical attribute\n",
    "- This column can be dropped as this does not contribute in any way to the prediction of the resale price\n",
    "\n",
    "**2. make**:\n",
    "- This is a nominal categorical attribute\n",
    "- This can also be encoded using binary encoding ( i.e. OneHotEncoding(labelEncoding(x)) which first converts it into labels and then does one hot encoding as there are alot of different models and this binary vector could be lesser in length than the regular one hot encoding)\n",
    "\n",
    "**3. model**\n",
    "- This is similar to make and can be categorized as a nominal categorical attribute\n",
    "- This can also be encoded using binary encoding (similar reasoning as above!)\n",
    "\n",
    "**4.type_of_vehicle**\n",
    "- This is a nominal categorical attribute\n",
    "- Can be encoded using label encoding as there are not a lot of types of vehicles\n",
    "\n",
    "**5.transmission**\n",
    "- This is a nominal categorical attribute\n",
    "- Can be encoded using one hot encoding"
   ]
  },
  {
   "cell_type": "markdown",
   "id": "2a282d03-152d-436e-adb0-911febcbb444",
   "metadata": {},
   "source": [
    "### 1.5 Basic Facts about a Real-World Dataset (8 Points)\n",
    "\n",
    "The following tasks are about getting basic insights into the Used Cars Resale Prices dataset. As the data preprocessing steps you choose to perform might affect the results of this task, we will use a different dataset file here. Note that this file also contains 15,000 listings of used cars but does **not** contain any \"dirty\" records. This is to ensure that everyone uses the same data.\n",
    "\n",
    "If you think this data file may contain \"dirty\" records, you can safely ignore them. Please do not modify the data for this task!"
   ]
  },
  {
   "cell_type": "code",
   "execution_count": 4,
   "id": "bb4e91ee-fdc9-4b05-a070-55c0855dedec",
   "metadata": {
    "ExecuteTime": {
     "end_time": "2023-09-08T12:22:33.810081600Z",
     "start_time": "2023-09-08T12:22:33.650593900Z"
    }
   },
   "outputs": [
    {
     "data": {
      "text/plain": "   listing_id                                        url        make  \\\n0     1019096  https://www.sgcarmart.com/listing/1019096  mitsubishi   \n1      946934   https://www.sgcarmart.com/listing/946934     porsche   \n2     1029652  https://www.sgcarmart.com/listing/1029652        audi   \n3     1004270  https://www.sgcarmart.com/listing/1004270        audi   \n4     1008439  https://www.sgcarmart.com/listing/1008439      subaru   \n\n       model  manufactured  type_of_vehicle  power  engine_cap  curb_weight  \\\n0  evolution          2008       sports car    206        1998         1550   \n1    cayenne          2011              suv    245        2995         2315   \n2         a5          2018     luxury sedan    140        1984         1535   \n3         rs          2018     stationwagon    331        2894         1790   \n4    impreza          2007  mid-sized sedan     70        1597         1280   \n\n   no_of_owners  mileage   price  \n0             3    82222  128888  \n1             4   131000  132000  \n2             2    43000  139800  \n3             1    28150  299900  \n4             2   140000   37938  ",
      "text/html": "<div>\n<style scoped>\n    .dataframe tbody tr th:only-of-type {\n        vertical-align: middle;\n    }\n\n    .dataframe tbody tr th {\n        vertical-align: top;\n    }\n\n    .dataframe thead th {\n        text-align: right;\n    }\n</style>\n<table border=\"1\" class=\"dataframe\">\n  <thead>\n    <tr style=\"text-align: right;\">\n      <th></th>\n      <th>listing_id</th>\n      <th>url</th>\n      <th>make</th>\n      <th>model</th>\n      <th>manufactured</th>\n      <th>type_of_vehicle</th>\n      <th>power</th>\n      <th>engine_cap</th>\n      <th>curb_weight</th>\n      <th>no_of_owners</th>\n      <th>mileage</th>\n      <th>price</th>\n    </tr>\n  </thead>\n  <tbody>\n    <tr>\n      <th>0</th>\n      <td>1019096</td>\n      <td>https://www.sgcarmart.com/listing/1019096</td>\n      <td>mitsubishi</td>\n      <td>evolution</td>\n      <td>2008</td>\n      <td>sports car</td>\n      <td>206</td>\n      <td>1998</td>\n      <td>1550</td>\n      <td>3</td>\n      <td>82222</td>\n      <td>128888</td>\n    </tr>\n    <tr>\n      <th>1</th>\n      <td>946934</td>\n      <td>https://www.sgcarmart.com/listing/946934</td>\n      <td>porsche</td>\n      <td>cayenne</td>\n      <td>2011</td>\n      <td>suv</td>\n      <td>245</td>\n      <td>2995</td>\n      <td>2315</td>\n      <td>4</td>\n      <td>131000</td>\n      <td>132000</td>\n    </tr>\n    <tr>\n      <th>2</th>\n      <td>1029652</td>\n      <td>https://www.sgcarmart.com/listing/1029652</td>\n      <td>audi</td>\n      <td>a5</td>\n      <td>2018</td>\n      <td>luxury sedan</td>\n      <td>140</td>\n      <td>1984</td>\n      <td>1535</td>\n      <td>2</td>\n      <td>43000</td>\n      <td>139800</td>\n    </tr>\n    <tr>\n      <th>3</th>\n      <td>1004270</td>\n      <td>https://www.sgcarmart.com/listing/1004270</td>\n      <td>audi</td>\n      <td>rs</td>\n      <td>2018</td>\n      <td>stationwagon</td>\n      <td>331</td>\n      <td>2894</td>\n      <td>1790</td>\n      <td>1</td>\n      <td>28150</td>\n      <td>299900</td>\n    </tr>\n    <tr>\n      <th>4</th>\n      <td>1008439</td>\n      <td>https://www.sgcarmart.com/listing/1008439</td>\n      <td>subaru</td>\n      <td>impreza</td>\n      <td>2007</td>\n      <td>mid-sized sedan</td>\n      <td>70</td>\n      <td>1597</td>\n      <td>1280</td>\n      <td>2</td>\n      <td>140000</td>\n      <td>37938</td>\n    </tr>\n  </tbody>\n</table>\n</div>"
     },
     "execution_count": 4,
     "metadata": {},
     "output_type": "execute_result"
    }
   ],
   "source": [
    "df_cars_facts = pd.read_csv('data/a1-used-cars-resale-facts.csv')\n",
    "\n",
    "df_cars_facts.head()"
   ]
  },
  {
   "cell_type": "markdown",
   "id": "a6db59c3-d7e9-4e37-a57c-db89bceb75cf",
   "metadata": {},
   "source": [
    "**Please complete the table below by answering the 8 given questions!** Use the code cell below the table to actually implement your steps that enabled you to answer the questions. There is no need for a fancy layout for any print statement; it's only important that the result is clear."
   ]
  },
  {
   "cell_type": "markdown",
   "id": "375bf326-0658-49ad-89ce-59bfd98b6331",
   "metadata": {},
   "source": [
    "This is a markdown cell. Please fill in your answers for (1)~(8).\n",
    "\n",
    "| No. | Question                                                                                               \t| Answer   \t                                      |\n",
    "|-----|------------------------------------------------------------------------------------------------------------|-------------------------------------------------|\n",
    "| 1)  | What are the lowest and the highest prices for which a car has been sold?   | **1900 & 2388777**                              |\n",
    "| 2)  | How many different car makes are in the whole dataset? | **64**                                          |\n",
    "| 3)  | How many Toyota Corolla (manufactured before 2010) have been sold?  | **141**                                         |\n",
    "| 4)  | What are the top-3 most sold car makes (give the car make and the number of sales)? | **mercedes-benz=2176, toyota=2116, honda=2078** |\n",
    "| 5)  | Which SUV car model has been sold the most (give the model and the number of sales)? | **vezel=397**                                   |\n",
    "| 6)  | Which car make generated the highest overall sale when only considering low-powered cars, i.e., with power $ \\leq$ 60 (give the car make and the total sale)? | **mitsubishi=5634938**                              |\n",
    "| 7)  | Which midsize sedan has the highest *power-to-engine_cap* ratio (give, the make, model, year of manufacturing, and power-to-engine_cap ratio (2 decimal precision))? | **bmw, i8, 2017, 0.17**                         |\n",
    "| 8)  | What is the correlation between the resale *price* and *mileage*, and between resale *price* and *engine_cap*? Use the Pearson correlation as metric. | **-0.3863 & 0.6540**                            |"
   ]
  },
  {
   "cell_type": "markdown",
   "id": "7f520c55-dad8-4f26-99e2-cc5e10244f10",
   "metadata": {},
   "source": [
    "**Complete the method `extract_facts` in the `.py` file to actually extract the facts!** The results should back up your answer above. Hint: Try to use methods/functionalities provided by `pandas` as much as possible; it will make your code much shorter, faster and your life easier. We will run performance checks for this method to evaluate the runtime, but the performance is not considered for the grading!\n",
    "\n",
    "**Note:** You can simply use simple print statements that somehow show the result you entered into the table above. You do not have to ensure any specific output. It should only *somehow* be possible to match the answers you have added to the table above to the output of the code cell."
   ]
  },
  {
   "cell_type": "code",
   "execution_count": 6,
   "outputs": [
    {
     "name": "stdout",
     "output_type": "stream",
     "text": [
      "1. Lowest price is 1900 & Highest price is 2388777\n",
      "2. No of unique makes is 64\n",
      "3. No of sold toyota corolla before 2010 is 141\n",
      "4. #1 sold car was mercedes-benz and total sales was 2176\n",
      "   #2 sold car was toyota and total sales was 2116\n",
      "   #3 sold car was honda and total sales was 2078\n",
      "5. The model with most sales was 'vezel' and total sales was 397\n",
      "6. Most sold low powered car make was mitsubishi and the total sales were 5634938\n",
      "7. Make=bmw, Model=i8, YOM=2017, ratio=0.17745163442294865\n",
      "8. Pearson corr b/w price & mileage is -0.38635493930026993 &\n",
      " Pearson corr b/w price & engine_cap is 0.654030308468794\n"
     ]
    },
    {
     "name": "stderr",
     "output_type": "stream",
     "text": [
      "C:\\Parashara\\Education\\MS @ NUS\\Courses @ NUS\\Sem 1\\Knowledge Discovery & Data Mining\\Assignments\\Assignment 1\\cs5228_a1_ParasharaRamesh_e1216292.py:127: SettingWithCopyWarning: \n",
      "A value is trying to be set on a copy of a slice from a DataFrame.\n",
      "Try using .loc[row_indexer,col_indexer] = value instead\n",
      "\n",
      "See the caveats in the documentation: https://pandas.pydata.org/pandas-docs/stable/user_guide/indexing.html#returning-a-view-versus-a-copy\n",
      "  suv_cars[\"sales\"] = 1\n",
      "C:\\Parashara\\Education\\MS @ NUS\\Courses @ NUS\\Sem 1\\Knowledge Discovery & Data Mining\\Assignments\\Assignment 1\\cs5228_a1_ParasharaRamesh_e1216292.py:141: SettingWithCopyWarning: \n",
      "A value is trying to be set on a copy of a slice from a DataFrame.\n",
      "Try using .loc[row_indexer,col_indexer] = value instead\n",
      "\n",
      "See the caveats in the documentation: https://pandas.pydata.org/pandas-docs/stable/user_guide/indexing.html#returning-a-view-versus-a-copy\n",
      "  only_midsized_sedan['power_to_engine'] = only_midsized_sedan['power']/only_midsized_sedan['engine_cap']\n"
     ]
    }
   ],
   "source": [
    "extract_facts(df_cars_facts)"
   ],
   "metadata": {
    "collapsed": false,
    "ExecuteTime": {
     "end_time": "2023-09-08T12:24:03.795600500Z",
     "start_time": "2023-09-08T12:24:03.723952600Z"
    }
   }
  },
  {
   "cell_type": "markdown",
   "id": "f96b982a-0060-46be-bbad-b0f82238ab2e",
   "metadata": {},
   "source": [
    "# 2 K-Means\n",
    "\n",
    "The K-Means algorithm is a fundamental technique in unsupervised machine learning aimed at categorizing data points into distinct clusters. The primary objective is to partition a dataset into K clusters based on similarities among data points. The algorithm operates through several steps:\n",
    "\n",
    "* **Initialization:** Begin by selecting the desired number of clusters, K. Initialize K centroids randomly, representing the cluster centers.\n",
    "\n",
    "* **Assignment:** Each data point is assigned to the nearest centroid, establishing initial clusters.\n",
    "\n",
    "* **Update:** Recalculate the centroids of the clusters using the mean of data points within each cluster.\n",
    "ments are consistent.\n",
    "\n",
    "The algorithm repeatedly performs the assignment and update steps for a set number of iterations or until the centroids no longer shift significantly. The algorithm converges when centroids stabilize, indicating that cluster assignments are consistent. At the end of the process, data points are grouped into K clusters, with each cluster defined by its centroid. K-Means has applications across diverse fields, such as customer behavior analysis, image segmentation, and recommendation systems. However, it's sensitive to the initial centroid placement and assumes clusters are spherical and equally sized, which can affect its performance."
   ]
  },
  {
   "cell_type": "markdown",
   "id": "f17241b9-b45a-49d3-827b-8dec4bf182c1",
   "metadata": {},
   "source": [
    "### 2.1 Performing K-Means \"By Hand\" (4 Points)\n",
    "\n",
    "The plot below shows a toy dataset of 15 data points labeled A, B, C, ..., O."
   ]
  },
  {
   "cell_type": "markdown",
   "id": "d33b3407-3934-4726-97ba-fb7be214d317",
   "metadata": {},
   "source": [
    "![data](data/a1-kmeans-data.png)"
   ]
  },
  {
   "cell_type": "markdown",
   "id": "62aec036-1e2b-45a0-8fc5-19ccc131a66e",
   "metadata": {},
   "source": [
    "#### 2.1 a) Find Clusters for K=3 (2 Points)\n",
    "\n",
    "Perform K-Means with K=3 on the data, taking points C, H, and M as the initial cluster centers! At the end of each iteration, list the positions of the cluster centers, as well as the set of points belonging to each cluster. There is no need for you to implement anything here.\n",
    "\n",
    "**Your Answer:**\n",
    "\n",
    "By eyeballing the datapoints given it is clear that the centroids will stablize after the very first iteration and will continue to remain as C,H,M\n",
    "\n",
    "All the distances are easily calculatable with pythogoras theorem\n",
    "\n",
    "Points A, B, D, E are closest to the centroid C\n",
    "Points F, G, I, J are closest to the centroid H\n",
    "Points K, L, N, O are closest to the centroid O"
   ]
  },
  {
   "cell_type": "markdown",
   "id": "46ff2bbd-7182-4f1c-b2d1-7d90c6b1a21d",
   "metadata": {},
   "source": [
    "#### 2.1 b) Evaluate the Result (2 Points)\n",
    "\n",
    "Do you think this clustering result is satisfactory? Briefly discuss your answer!\n",
    " \n",
    " **Your Answer:**\n",
    "\n",
    "The above result only works given that specific initialization of the centroids.\n",
    "With different initial centroid values however, the clusters would be totally different\n",
    "e.g. if  G,H,I as chosen as initial centroids. Then clusters would be totally different with A,B,F,L going to cluster G ; C & M going to cluster H ; D,E,J,O,N going to cluster I.\n",
    "\n",
    "Since there is such randomization of different final results, the notion of what constitutes a cluster is not clear. Therefore, this kind of initialization is not a good one for this particular dataset."
   ]
  },
  {
   "cell_type": "markdown",
   "id": "97bc1933-9b0f-4f60-a6ea-db4db64bc937",
   "metadata": {},
   "source": [
    "### 2.2 Initializing Centroids (10 Points)\n",
    "\n",
    "As we learned in the lecture, K-Means is rather sensitive to the initialization of the clusters. The most common initialization method is **K-Means++** (see lecture slides). Note that K-Means++ is non-deterministic as it picks the next based on probabilities depending on the distances between the data points and the existing clusters. You will implement the K-Means++ initialization in this task.\n",
    "\n",
    "Consider another heuristic **MaxDist** which is very similar to K-Means++, which picks the next centroid as the data point which is farthest away from its currently nearest existing centroid. -- In fact, some of you in the lecture have asked why we not simply do this instead of picking points with some randomness -- More formally, given a pick for the first centroid $c_1$, all following centroids $c_k$ for $k=2,...,K$ are defined as:\n",
    "\n",
    "$$\n",
    "c_k = \\underset{x\\in X}{\\mathrm{argmax}} \\left( \\underset{i=1,...,k-1}{\\mathrm{min}}||x - c_i||_2 \\right)\n",
    "$$\n",
    "\n",
    "where $X$ is the set of all data points. Appreciate that $\\underset{i=1,...,k-1}{\\mathrm{min}}||x - c_i||_2$ is also part of K-Means++, only instead of picking with some randomization we always pick the point with the largest distance.\n",
    "\n",
    "For testing your implementation in the following, we use the dataset that generated the figure above in 1.1. The data points are in the order that $A=X[0]$, $B=X[1]$, $C=X[2]$, ..., $N=X[13]$, $O=X[14]$. This will make the interpretation of the results easier."
   ]
  },
  {
   "cell_type": "code",
   "execution_count": 3,
   "id": "83d1d1d9-ff05-4b9a-b23a-84ec6c2347cb",
   "metadata": {
    "ExecuteTime": {
     "end_time": "2023-09-03T05:21:50.325813800Z",
     "start_time": "2023-09-03T05:21:50.254378100Z"
    }
   },
   "outputs": [
    {
     "data": {
      "text/plain": "(15, 2)"
     },
     "execution_count": 3,
     "metadata": {},
     "output_type": "execute_result"
    }
   ],
   "source": [
    "X = np.array([[-4,1], [-2,1], [0,1], [2,1], [4,1],\n",
    "              [-4,0], [-2,0], [0,0], [2,0], [4,0], \n",
    "              [-4,-1], [-2,-1],  [0,-1], [2,-1], [4,-1]])\n",
    "\n",
    "X.shape"
   ]
  },
  {
   "cell_type": "markdown",
   "id": "a7d75e77-efaf-4c43-bb17-497bde4612d0",
   "metadata": {},
   "source": [
    "#### 2.2 a) Implement Initialization of Centroids (6 Points)\n",
    "\n",
    "Implement the method `kmeans_init()` in the `.py` file to calculate the initial centroids based on the two approaches \"K-Means++\" and \"MaxDist\"! Since both approaches are quite similar, this can easily be done in the same method. Note that `kmeans_init()` allows you to specify the first centroid manually. This is very useful for testing and interpreting the results later. Note that the method should return the indices of the respective data points chosen as centroids and not the actual data points.\n",
    "\n",
    "Hint: We already imported the method `euclidean_distances` for you to use, and you can always use anything provided by `numpy`.\n",
    "\n",
    "The code cell allows you to check your code."
   ]
  },
  {
   "cell_type": "code",
   "execution_count": 7,
   "id": "fd947985-d1a6-4b03-b1ea-4b1076152a3b",
   "metadata": {
    "ExecuteTime": {
     "end_time": "2023-09-03T05:22:23.211926800Z",
     "start_time": "2023-09-03T05:22:23.180256700Z"
    }
   },
   "outputs": [
    {
     "name": "stdout",
     "output_type": "stream",
     "text": [
      "Centroids (kmeans++):\n",
      "[0 3 5]\n"
     ]
    }
   ],
   "source": [
    "centroids = kmeans_init(X, 3, c1=0, method='kmeans++')\n",
    "\n",
    "print('Centroids (kmeans++):')\n",
    "print(centroids)"
   ]
  },
  {
   "cell_type": "code",
   "execution_count": 8,
   "outputs": [
    {
     "name": "stdout",
     "output_type": "stream",
     "text": [
      "Centroids (maxdist):\n",
      "[ 0 14  7]\n"
     ]
    }
   ],
   "source": [
    "centroids = kmeans_init(X, 3, c1=0, method='maxdist')\n",
    "\n",
    "print('Centroids (maxdist):')\n",
    "print(centroids)"
   ],
   "metadata": {
    "collapsed": false,
    "ExecuteTime": {
     "end_time": "2023-09-03T05:22:25.702584700Z",
     "start_time": "2023-09-03T05:22:25.671207500Z"
    }
   }
  },
  {
   "cell_type": "markdown",
   "id": "b7889475-8468-4ce6-a399-4808996e482a",
   "metadata": {},
   "source": [
    "For `method='maxdist'` the output should be as follows:\n",
    "\n",
    "```\n",
    "Centroids:\n",
    "[ 0 14  7]\n",
    "```\n",
    "\n",
    "This output should match since we set the data point at index `0` as the first centroid, and the \"MaxDist\" method is deterministic. When using `method='kmeans++'`, the output will differ when executing the code cell multiple times, although the first centroid in the list should always be Index `0`, of course."
   ]
  },
  {
   "cell_type": "markdown",
   "id": "ff709373-3f46-45c2-a495-8196afb1bbce",
   "metadata": {},
   "source": [
    "#### 2.2 b) Interpreting MaxDist Initialization\n",
    "\n",
    "We provide you with a method `plot_centroid_distributions` (check `src/utils.py` for the details on the input parameters) to visualize the process of picking all centroids, given a manually chosen first centroid. `plot_centroid_distributions` executes your implementation of `initialize_centroids` multiple times specified by the input parameter `num_runs`. During this process, the method counts the number of times each data point (i.e., its index $0..14$) was picked for $c_2$, ..., $c_k$ (we use K=3 throughout this section). This gives you a distribution of how often a data point was selected as centroid, and plots it as a bar chart. Of course, since we specify the first centroid $c_1$ as an input parameter, the distribution for $c_1$ is always a single bar with a height of `num_runs`.\n",
    "\n",
    "Run `plot_centroid_distributions` using the method **MaxDist** using the code below. The number of clusters is K=3 and the index of the first cluster is 0 (i.e., data point $A$). If the results are unclear, you can increase the value of `num_runs`. Explain the results, discuss whether they meet your expectations of the method **MaxDist**, and discuss if the result is unique! Use the markdown cell below the plots."
   ]
  },
  {
   "cell_type": "code",
   "execution_count": 11,
   "id": "146235f8-bf2a-4035-a13c-98e224094a24",
   "metadata": {
    "ExecuteTime": {
     "end_time": "2023-09-03T05:28:06.406543300Z",
     "start_time": "2023-09-03T05:28:05.924074Z"
    }
   },
   "outputs": [
    {
     "data": {
      "text/plain": "<Figure size 640x480 with 1 Axes>",
      "image/png": "[encoded data removed]"
     },
     "metadata": {},
     "output_type": "display_data"
    },
    {
     "data": {
      "text/plain": "<Figure size 640x480 with 1 Axes>",
      "image/png": "[encoded data removed]"
     },
     "metadata": {},
     "output_type": "display_data"
    },
    {
     "data": {
      "text/plain": "<Figure size 640x480 with 1 Axes>",
      "image/png": "[encoded data removed]"
     },
     "metadata": {},
     "output_type": "display_data"
    }
   ],
   "source": [
    "plot_centroid_distributions(kmeans_init, X, 3, 0, method='maxdist', num_runs=100)"
   ]
  },
  {
   "cell_type": "markdown",
   "id": "ae0b31ab-de06-44ba-b273-8528e838d674",
   "metadata": {},
   "source": [
    "**Your Answer:**\n",
    "\n",
    "This plot makes sense as the maxdist initialization given a particular starting point ( in this case with point A as initialization it always returns the centroids as points A, H & O)\n",
    "\n",
    "This is because after the first iteration it would always pick O as that is the furthest point away from A.\n",
    "\n",
    "Then in the last iteration it would always pick H as the next centroid given that that point is the furthest away from either of the existing centroids (A or O). At the end of the second iteration points (A, B, C, F, G,K, L) would belong to cluster A and points (D, E, I, J, O, N, M) would belong to cluster O.\n",
    "\n",
    "This leaves only point H which is currently equidistant and furthest point away from both A & O thus making this the last centroid.\n",
    "\n",
    "However, with a different initialization of the first centroid the result would be completely different.\n",
    "\n",
    "But the conclusion I can draw is that, given a specific initialization of the starting point the set of centroids outputted from the 'maxdist' initialization will always be unique. (0, 14, 7 in this particular case; but would be a different set of 3 numbers for a different starting centroid)\n",
    "\n",
    "So in some sense, it is a more deterministic initialization method for sure but whether this actually helps in reaching convergence of all clusters cannot be predicted upfront as such a greedy method may not work for all kinds of datapoints."
   ]
  },
  {
   "cell_type": "markdown",
   "id": "39e91f97-d4d3-499f-99ee-ec9fdd7a543c",
   "metadata": {},
   "source": [
    "#### 2.2 c) Interpreting KMeans++ Initialization (2 Points)\n",
    "\n",
    "Run `plot_centroid_distributions` using the method **K-Means++** using the code below! The number of clusters is K=3 and the index of the first cluster is 0 (i.e., data point $A$). If the results are unclear, you can increase the value of `num_runs`. Explain the results and discuss whether they meet your expectations of the method **K-Means++**! Use the markdown cell below the plots."
   ]
  },
  {
   "cell_type": "code",
   "execution_count": 21,
   "id": "d890f510-cc20-4577-8bec-b241a38299b1",
   "metadata": {
    "ExecuteTime": {
     "end_time": "2023-09-03T05:58:35.399433500Z",
     "start_time": "2023-09-03T05:58:23.995781200Z"
    }
   },
   "outputs": [
    {
     "data": {
      "text/plain": "<Figure size 640x480 with 1 Axes>",
      "image/png": "[encoded data removed]"
     },
     "metadata": {},
     "output_type": "display_data"
    },
    {
     "data": {
      "text/plain": "<Figure size 640x480 with 1 Axes>",
      "image/png": "[encoded data removed]"
     },
     "metadata": {},
     "output_type": "display_data"
    },
    {
     "data": {
      "text/plain": "<Figure size 640x480 with 1 Axes>",
      "image/png": "[encoded data removed]"
     },
     "metadata": {},
     "output_type": "display_data"
    }
   ],
   "source": [
    "plot_centroid_distributions(kmeans_init, X, 3, 0, method='kmeans++', num_runs=100000)\n"
   ]
  },
  {
   "cell_type": "markdown",
   "id": "68cacd72-5fc3-4a98-9c44-ff61d63fe006",
   "metadata": {},
   "source": [
    "**Your Answer:**\n",
    "\n",
    "After changing the num of runs from 100 all the way to 100000, there were certain observations which clearly stood out.\n",
    "\n",
    "At its core the KMeans++ is a probabilistic initialization algorithm where more weightage is given to points based on their $distance^2$, so it makes sense that for the 2nd and 3rd pick for centroids all the other values also make its way into the graph as bar lines.\n",
    "\n",
    "However, on increasing the num_runs to a higher value it becomes clearer which points are being favoured in the second and third centroid picking process based on their frequencies.\n",
    "\n",
    "For the second centroid pick, the points (E,J,O) which correspond to the points in the 3rd column are more preferred/frequent as these set of points are the furthest away from the intial centroid (point A) and they get picked more frequently based on their probability weightage as mentioned above.\n",
    "\n",
    "For the third centroid pick, the points (C, H, M) which correspond to the points in the 2nd column are more preferred/frequent as these set of points are the furthest away from both centroids (assuming that the second point also falls in the last column as mentioned before). Since this is also chosen based on the probabilistic weightage proportional to $distance^2$ it makes sense that other points also show up in the graph although their frequencies are not as high due to this weightage given.\n",
    "\n",
    "In conclusion, the kmeans++ intialization does an excellent job of spacing out the centroids in an even manner more often than not and sometimes we may even get lucky if different points are chosen as well due to the probabilistic nature of choosing points.\n",
    "\n",
    "When compared with maxdist this is not a deterministic algorithm in the sense we always get the same points as the output but we almost always will be on the better end of the bargain as the probabilistic algorithm would space things out nicely which will help in the later iterations for better convergence overall.\n"
   ]
  },
  {
   "cell_type": "markdown",
   "id": "ff40a137-e32d-4876-b43b-fa2412c5adb7",
   "metadata": {},
   "source": [
    "### 2.3 Questions about K-Means (6 Points)\n",
    "\n",
    "#### 2.3 a) Empty Cluster (3 Points)\n",
    "\n",
    "**Outline all situations where K-Means may return at least 1 empty cluster!** To address this task, please make the following assumptions:\n",
    "* The number of samples $N$ in the dataset is $N > 0$\n",
    "* The number of clusters $K$ when running K-Means is $K \\geq 2$\n",
    "* The initialization of the initial centroids can be arbitrary good or bad\n",
    "\n",
    "**Your Answer:**\n",
    "\n",
    "- if some of the initialized centroids are too far away from the rest of the datapoints, the assignment step may result in these centroids not having any other points in its cluster due to the large distance as those points may get assigned to other centroids\n",
    "- if the k value is higher than the number of \"natural\" clusters which might arise from the data, then what might happen is that as the iterations go on, the points which was once a part of some cluster may decide to move to other clusters ( as the centroid of those clusters change with every iteration) thereby resulting in empty clusters\n",
    "- if there are outliers in the dataset it is possible that they may be assigned to clusters of their own leaving other clusters empty"
   ]
  },
  {
   "cell_type": "markdown",
   "id": "bf20c022-94c2-412a-99e8-64d0386cd6fb",
   "metadata": {},
   "source": [
    "#### 2.3 b) Outlier Detection (3 Points)\n",
    "\n",
    "Recall the K-Means results in clusterings that are complete, i.e., each data point is assigned to a cluster. In contrast, DBSCAN has the notion of noise, i.e., points that are not part of any cluster, which can be used to identify outliers (see also Task 2). Now let's assume we want to identify outliers in a dataset but only have an implementation for K-Means available.\n",
    "\n",
    "**Describe how we can use K-Means to identify outliers!** Since the notion of outliers is not well defined, it's not about having a fool-proof solution but to make a well-informed decision to limit the set of data points that are potential outliers.\n",
    "\n",
    "**Your Answer:**\n",
    "\n",
    "- Firstly we have to figure out the optimal k value using other methods for e.g by plotting the elbow curve, or using other metrics like the Silhouette coefficient\n",
    "- We can then perform k means clustering using some random initialization of points. Following which we can detect outliers in the following ways:\n",
    "- option 1\n",
    "a. we can set some kind of outlier threshold distance ( lets call it x ).\n",
    "b. if any cluster has points where that particular datapoint is very far away from its cluster centroid we can assume that to be an outlier as long as its greater than the threshold we have already set up. This would work , because whenever there are outliers, the centroid of the cluster would naturally stay closer to the rest of the datapoints in the cluster thereby ensuring that the outlier point has a large distance to its centroid.\n",
    "c. we can then sort all the datapoints which are furthest away from its respective cluster's centroid in descending order and then filter only few of the datapoints which are really far away and are greater than the threshold\n",
    "- option 2\n",
    "In some cases , due to the cluster initialization step being closer to the outliers there may arise a situation where the outlier becomes a part of its own cluster as the iterations go on ( i.e. the outlier is the only point in the cluster). This way if we keep a look-out for clusters where the no of points inside the cluster are too less or are exactly one we can also classify those as outliers as well."
   ]
  },
  {
   "cell_type": "markdown",
   "source": [],
   "metadata": {
    "collapsed": false
   }
  }
 ],
 "metadata": {
  "kernelspec": {
   "name": "python3",
   "language": "python",
   "display_name": "Python 3 (ipykernel)"
  },
  "language_info": {
   "codemirror_mode": {
    "name": "ipython",
    "version": 3
   },
   "file_extension": ".py",
   "mimetype": "text/x-python",
   "name": "python",
   "nbconvert_exporter": "python",
   "pygments_lexer": "ipython3",
   "version": "3.9.16"
  }
 },
 "nbformat": 4,
 "nbformat_minor": 5
}
