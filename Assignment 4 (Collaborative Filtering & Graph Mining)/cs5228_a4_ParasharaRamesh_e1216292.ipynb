{
 "cells": [
  {
   "cell_type": "markdown",
   "id": "763f0fa0-6584-44d4-b163-a891252769f9",
   "metadata": {},
   "source": [
    "# CS5228 Assignment 4 - Recommender Systems & Graph Mining\n",
    "\n",
    "Hello everyone, this assignment notebook covers Recommender Systems & Graph Mining. There are some code-completion tasks and question-answering tasks in this answer sheet. For code completion tasks, please write down your answer (i.e., your lines of code) between sentences that \"Your code starts here\" and \"Your code ends here\". The space between these two lines does not reflect the required or expected lines of code. For answers in plain text, you can refer to [this Markdown guide](https://medium.com/analytics-vidhya/the-ultimate-markdown-guide-for-jupyter-notebook-d5e5abf728fd) to customize the layout (although it shouldn't be needed).\n",
    "\n",
    "When you work on this notebook, you can insert additional code cells (e.g., for testing) or markdown cells (e.g., to keep track of your thoughts). However, before the submission, please remove all those additional cells again. Thanks!\n",
    "\n",
    "**Important:**\n",
    "* Rename and save this Jupyter notebook as **cs5228_a4_YourName_YourNUSNETID.ipynb** (e.g., **cs5228_a4_BobSmith_e12345678.ipynb**) before submission!\n",
    "* Rename and save the script file *cs5228_a4.py* as **cs5228_a4_YourName_YourNUSNETID.py** (e.g., **cs5228_a4_BobSmith_e12345678.py**) before submission!\n",
    "* Submission deadline is Nov XX, 11.59 pm. Late submissions will be penalized by 10% for each additional day. Failure to appropriately rename both files will yield a penalty of 1 Point. There is no need to use your full name if it's rather long; it's just  important to easily identify you in Canvas etc.\n",
    "\n",
    "Please also add your NUSNET and student id in the code cell below. This is just to make any identification of your notebook doubly sure."
   ]
  },
  {
   "cell_type": "code",
   "execution_count": 1,
   "id": "119a3b10-7afe-4814-9a79-32310842f1c3",
   "metadata": {
    "ExecuteTime": {
     "end_time": "2023-11-10T03:12:06.239731100Z",
     "start_time": "2023-11-10T03:12:06.048317300Z"
    }
   },
   "outputs": [],
   "source": [
    "student_id = 'A0285647M'\n",
    "nusnet_id = 'e1216292'"
   ]
  },
  {
   "cell_type": "markdown",
   "id": "f7455d1c-31ad-4620-8d8a-ad2adc363f56",
   "metadata": {},
   "source": [
    "Here is an overview over the tasks to be solved and the points associated with each task. The notebook can appear very long and verbose, but note that a lot of parts provide additional explanations, documentation, or some discussion. The code and markdown cells you are supposed to complete are well, but you can use the overview below to double-check that you covered everything.\n",
    "\n",
    "* **1 Recommender Systems (30 Points)**\n",
    "    * 1.1 Content-based (User-Item Similarities) (7 Points)\n",
    "        * 1.1 a) Calculate User Profile (5 Points)\n",
    "        * 1.1 b) Calculate User-Item Similarities (2 Points)\n",
    "    * 1.2 User-based Collaborative Filtering (7 Points)\n",
    "        * 1.2 a) Calculate User-User Similarities (5 Points)\n",
    "        * 1.2 b) Calculate Estimated Rating (2 Points)\n",
    "    * 1.3 Matrix Factorization (16 Points)\n",
    "        * 1.3 a) Implement Non-Negative Matrix Factorization (8 Points)\n",
    "        * 1.3 b) Hyperparameter Exploration (3 Points)\n",
    "        * 1.3 c) Matrix Factorization & Updates (5 Points)\n",
    "* **2 Graph Mining (20 Points)**\n",
    "    * 2.1 Implementing Closeness Centrality (4 Points)\n",
    "    * 2.2 Implementing PageRank Centrality (8 Points)\n",
    "    * 2.3 Comparing Centrality Measures (8 Points)\n",
    "        * 2.3 a) Run Off-The-Shelf Centrality Algorithms (3 Points)\n",
    "        * 2.3 b) Discussion of Results (5 Points)"
   ]
  },
  {
   "cell_type": "markdown",
   "id": "60a4e6d6-30f8-4722-9750-4986c33fcccd",
   "metadata": {},
   "source": [
    "## Setting up the Notebook\n",
    "\n",
    "### Enable Auto-Reload\n",
    "\n",
    "This ensures that any saved changes to your `.py` file gets automatically reloaded."
   ]
  },
  {
   "cell_type": "code",
   "execution_count": 2,
   "id": "65641534-c0db-491c-8f9a-475ba94a5c6c",
   "metadata": {
    "ExecuteTime": {
     "end_time": "2023-11-10T03:12:06.240732500Z",
     "start_time": "2023-11-10T03:12:06.071541700Z"
    }
   },
   "outputs": [],
   "source": [
    "%load_ext autoreload\n",
    "%autoreload 2"
   ]
  },
  {
   "cell_type": "markdown",
   "id": "cad660cb-6a44-4906-8756-d18ec238bf09",
   "metadata": {},
   "source": [
    "### Enable \"Inline Plotting\""
   ]
  },
  {
   "cell_type": "code",
   "execution_count": 3,
   "id": "8067a9c2-d8d6-4cb5-b994-07fdc2c51b17",
   "metadata": {
    "ExecuteTime": {
     "end_time": "2023-11-10T03:12:07.113262Z",
     "start_time": "2023-11-10T03:12:06.130069Z"
    }
   },
   "outputs": [],
   "source": [
    "%matplotlib inline"
   ]
  },
  {
   "cell_type": "markdown",
   "id": "a1bdd634-a20d-491b-9339-49eab3ab7205",
   "metadata": {},
   "source": [
    "### Importing Required Packages"
   ]
  },
  {
   "cell_type": "code",
   "execution_count": 4,
   "id": "4ca2bb72-8aa3-4d53-9d2a-e4953aa02592",
   "metadata": {
    "ExecuteTime": {
     "end_time": "2023-11-10T03:12:08.292668900Z",
     "start_time": "2023-11-10T03:12:07.116262100Z"
    }
   },
   "outputs": [],
   "source": [
    "import numpy as np\n",
    "import pandas as pd\n",
    "import networkx as nx\n",
    "\n",
    "from src.utils import plot_mrt_graph"
   ]
  },
  {
   "cell_type": "markdown",
   "id": "befecf0d-9ea3-4355-abb3-6cc7b1daa7ec",
   "metadata": {},
   "source": [
    "**Important:** This notebook also requires you to complete in a separate `.py` script file. This keeps this notebook cleaner and simplifies testing your implementations for us. As you need to rename the file `cs5228_a4.py`, you also need to edit the import statement below accordingly."
   ]
  },
  {
   "cell_type": "code",
   "execution_count": 5,
   "id": "0c0827e5-fcc6-42d4-93df-96258a07cec3",
   "metadata": {
    "ExecuteTime": {
     "end_time": "2023-11-10T03:12:08.404067100Z",
     "start_time": "2023-11-10T03:12:08.286528800Z"
    }
   },
   "outputs": [],
   "source": [
    "from cs5228_a4_ParasharaRamesh_e1216292 import *\n",
    "#from cs5228_a4_BobSmith_e12345678 import get_noise_dbscan # <-- you will need to rename this accordingly"
   ]
  },
  {
   "cell_type": "markdown",
   "id": "872ccaa8-0df8-4b2c-9676-0f872ec645d8",
   "metadata": {},
   "source": [
    "---"
   ]
  },
  {
   "cell_type": "markdown",
   "id": "4e65ca2e-36ac-4d5e-aa5d-b5c5e39ba1a4",
   "metadata": {},
   "source": [
    "## 1 Recommender Systems\n"
   ]
  },
  {
   "cell_type": "markdown",
   "id": "6ce33383-b661-4357-b37e-3a27e2aa3b06",
   "metadata": {},
   "source": [
    "### 1.1 Content-based (User-Item Similarities) (7 Points)\n",
    "\n",
    "The [Spotify Dataset 1921-2020](https://www.kaggle.com/yamaerenay/spotify-dataset-19212020-160k-tracks) contains over 175,000 songs with both [audio features](https://developer.spotify.com/documentation/web-api/reference/#endpoint-get-audio-features) and [track features](https://developer.spotify.com/documentation/web-api/reference/#endpoint-get-track). For this task, we look at 6 different songs an individual user $u$ has rated, and limit ourselves to 4 audio features, all ranging from 0 to 1. Note that this is somewhat different to the example from the lecture where we had only 0 or 1 as feature values -- recall that our features were only binary indicating whether a movie belonged to a certain genre. However, this does not change the calculation.\n",
    "\n",
    "**Important:** The ratings are not part of the dataset but manually added for this task. The range of the ratings is from 1 to 10."
   ]
  },
  {
   "cell_type": "code",
   "execution_count": 6,
   "id": "5a44e018-246e-426b-8461-8611d94e4112",
   "metadata": {
    "ExecuteTime": {
     "end_time": "2023-11-10T03:12:08.568460300Z",
     "start_time": "2023-11-10T03:12:08.362816200Z"
    }
   },
   "outputs": [
    {
     "data": {
      "text/plain": "   acousticness  danceability  energy  liveness  rating\n0          0.93          0.32    0.14      0.18       9\n1          0.11          0.85    0.82      0.09       2\n2          0.75          0.36    0.39      0.12       7\n3          0.84          0.50    0.24      0.13       8\n4          0.88          0.33    0.18      0.09       8\n5          0.11          0.76    0.69      0.09       2",
      "text/html": "<div>\n<style scoped>\n    .dataframe tbody tr th:only-of-type {\n        vertical-align: middle;\n    }\n\n    .dataframe tbody tr th {\n        vertical-align: top;\n    }\n\n    .dataframe thead th {\n        text-align: right;\n    }\n</style>\n<table border=\"1\" class=\"dataframe\">\n  <thead>\n    <tr style=\"text-align: right;\">\n      <th></th>\n      <th>acousticness</th>\n      <th>danceability</th>\n      <th>energy</th>\n      <th>liveness</th>\n      <th>rating</th>\n    </tr>\n  </thead>\n  <tbody>\n    <tr>\n      <th>0</th>\n      <td>0.93</td>\n      <td>0.32</td>\n      <td>0.14</td>\n      <td>0.18</td>\n      <td>9</td>\n    </tr>\n    <tr>\n      <th>1</th>\n      <td>0.11</td>\n      <td>0.85</td>\n      <td>0.82</td>\n      <td>0.09</td>\n      <td>2</td>\n    </tr>\n    <tr>\n      <th>2</th>\n      <td>0.75</td>\n      <td>0.36</td>\n      <td>0.39</td>\n      <td>0.12</td>\n      <td>7</td>\n    </tr>\n    <tr>\n      <th>3</th>\n      <td>0.84</td>\n      <td>0.50</td>\n      <td>0.24</td>\n      <td>0.13</td>\n      <td>8</td>\n    </tr>\n    <tr>\n      <th>4</th>\n      <td>0.88</td>\n      <td>0.33</td>\n      <td>0.18</td>\n      <td>0.09</td>\n      <td>8</td>\n    </tr>\n    <tr>\n      <th>5</th>\n      <td>0.11</td>\n      <td>0.76</td>\n      <td>0.69</td>\n      <td>0.09</td>\n      <td>2</td>\n    </tr>\n  </tbody>\n</table>\n</div>"
     },
     "execution_count": 6,
     "metadata": {},
     "output_type": "execute_result"
    }
   ],
   "source": [
    "df = pd.read_csv('data/a4-spotify-sample.csv')\n",
    "\n",
    "df.head(6)"
   ]
  },
  {
   "cell_type": "markdown",
   "id": "87902a7b-b94b-4867-b14c-5c10aa280d3a",
   "metadata": {},
   "source": [
    "#### 1.1 a) Calculate User Profile (5 Points)\n",
    "\n",
    "Calculate the user profile vector $v_u$ based on $u$'s rating history! Please complete the equation by adding the profile vector in the markdown cell below; use a precision of 2 decimals for all vector values.\n",
    "\n",
    "**Important:** Show at least for one element in the profile vector how you calculated the value in detail. You can use an additional code or markdown cell.\n",
    "\n",
    "**Your answer:**"
   ]
  },
  {
   "cell_type": "markdown",
   "source": [
    "1. Find the mean of all the ratings\n",
    "$$\\mu_r = \\frac{\\Sigma_{i=1}^{6} r_i}{6}$$"
   ],
   "metadata": {
    "collapsed": false
   }
  },
  {
   "cell_type": "code",
   "execution_count": 7,
   "outputs": [
    {
     "name": "stdout",
     "output_type": "stream",
     "text": [
      "avg rating is 6.0\n"
     ]
    }
   ],
   "source": [
    "mu_rating = df[\"rating\"].mean()\n",
    "print(f\"avg rating is {mu_rating}\")"
   ],
   "metadata": {
    "collapsed": false,
    "ExecuteTime": {
     "end_time": "2023-11-10T03:12:08.625934700Z",
     "start_time": "2023-11-10T03:12:08.474071700Z"
    }
   }
  },
  {
   "cell_type": "markdown",
   "source": [
    "2. Subtract each rating from the mean of the ratings\n",
    "$$r'_i = r_i  - \\mu_r$$"
   ],
   "metadata": {
    "collapsed": false
   }
  },
  {
   "cell_type": "code",
   "execution_count": 8,
   "outputs": [
    {
     "name": "stdout",
     "output_type": "stream",
     "text": [
      "New rating values\n"
     ]
    },
    {
     "data": {
      "text/plain": "0    3.0\n1   -4.0\n2    1.0\n3    2.0\n4    2.0\nName: rating, dtype: float64"
     },
     "execution_count": 8,
     "metadata": {},
     "output_type": "execute_result"
    }
   ],
   "source": [
    "df[\"rating\"] = df[\"rating\"] - mu_rating\n",
    "print(\"New rating values\")\n",
    "df[\"rating\"].head()"
   ],
   "metadata": {
    "collapsed": false,
    "ExecuteTime": {
     "end_time": "2023-11-10T03:12:08.751548600Z",
     "start_time": "2023-11-10T03:12:08.549979300Z"
    }
   }
  },
  {
   "cell_type": "markdown",
   "source": [
    "3. Find the new value for acousticness\n",
    "$$a' = \\frac{\\Sigma_{i=1}^{6} r'_i.a_i}{6}$$"
   ],
   "metadata": {
    "collapsed": false
   }
  },
  {
   "cell_type": "code",
   "execution_count": 9,
   "outputs": [
    {
     "name": "stdout",
     "output_type": "stream",
     "text": [
      "user's acousticness value is 1.0166666666666666\n"
     ]
    }
   ],
   "source": [
    "df[\"acousticness\"] = df[\"acousticness\"] * df[\"rating\"]\n",
    "user_acousticness_val = df[\"acousticness\"].mean()\n",
    "print(f\"user's acousticness value is {user_acousticness_val}\")"
   ],
   "metadata": {
    "collapsed": false,
    "ExecuteTime": {
     "end_time": "2023-11-10T03:12:08.975394300Z",
     "start_time": "2023-11-10T03:12:08.626932400Z"
    }
   }
  },
  {
   "cell_type": "markdown",
   "source": [
    "4. Find the new value for danceability\n",
    "$$d' = \\frac{\\Sigma_{i=1}^{6} r'_i.d_i}{6}$$"
   ],
   "metadata": {
    "collapsed": false
   }
  },
  {
   "cell_type": "code",
   "execution_count": 10,
   "outputs": [
    {
     "name": "stdout",
     "output_type": "stream",
     "text": [
      "user's danceability value is -0.5766666666666667\n"
     ]
    }
   ],
   "source": [
    "df[\"danceability\"] = df[\"danceability\"] * df[\"rating\"]\n",
    "user_danceability_val = df[\"danceability\"].mean()\n",
    "print(f\"user's danceability value is {user_danceability_val}\")"
   ],
   "metadata": {
    "collapsed": false,
    "ExecuteTime": {
     "end_time": "2023-11-10T03:12:09.008261700Z",
     "start_time": "2023-11-10T03:12:08.713793200Z"
    }
   }
  },
  {
   "cell_type": "markdown",
   "source": [
    "5. Find the new value for energy\n",
    "$$e' = \\frac{\\Sigma_{i=1}^{6} r'_i.e_i}{6}$$"
   ],
   "metadata": {
    "collapsed": false
   }
  },
  {
   "cell_type": "code",
   "execution_count": 11,
   "outputs": [
    {
     "name": "stdout",
     "output_type": "stream",
     "text": [
      "user's energy value is -0.7316666666666666\n"
     ]
    }
   ],
   "source": [
    "df[\"energy\"] = df[\"energy\"] * df[\"rating\"]\n",
    "user_energy_val = df[\"energy\"].mean()\n",
    "print(f\"user's energy value is {user_energy_val}\")"
   ],
   "metadata": {
    "collapsed": false,
    "ExecuteTime": {
     "end_time": "2023-11-10T03:12:09.011267700Z",
     "start_time": "2023-11-10T03:12:08.779109800Z"
    }
   }
  },
  {
   "cell_type": "markdown",
   "id": "00abe218-eff0-4314-9047-d0a37f847404",
   "metadata": {},
   "source": [
    "6. Find the new value for liveness\n",
    "$$l' = \\frac{\\Sigma_{i=1}^{6} r'_i.l_i}{6}$$\n"
   ]
  },
  {
   "cell_type": "code",
   "execution_count": 12,
   "outputs": [
    {
     "name": "stdout",
     "output_type": "stream",
     "text": [
      "user's liveness value is 0.06333333333333334\n"
     ]
    }
   ],
   "source": [
    "df[\"liveness\"] = df[\"liveness\"] * df[\"rating\"]\n",
    "user_liveness_val = df[\"liveness\"].mean()\n",
    "print(f\"user's liveness value is {user_liveness_val}\")"
   ],
   "metadata": {
    "collapsed": false,
    "ExecuteTime": {
     "end_time": "2023-11-10T03:12:09.110904200Z",
     "start_time": "2023-11-10T03:12:08.856856100Z"
    }
   }
  },
  {
   "cell_type": "markdown",
   "source": [
    "7. Final vector\n",
    "$$v_u = [a', d', e', l']$$\n",
    "$$v_u = [1.0166666666666666, -0.5766666666666667, -0.7316666666666666, 0.06333333333333334]$$"
   ],
   "metadata": {
    "collapsed": false
   }
  },
  {
   "cell_type": "markdown",
   "id": "184f37f4-e917-43ec-811d-7e9ce0932515",
   "metadata": {},
   "source": [
    "#### 1.1 b) Calculate User-Item Similarities (2 Points)\n",
    "\n",
    "Calculate all cosine similarities between user $u$ and 2 new songs as defined by their feature values! Please complete the table and the statement below; use a precision of 2 decimals for the similarity values. Based on your results, which of the 2 songs should be recommended to the user?"
   ]
  },
  {
   "cell_type": "markdown",
   "id": "f363aeae-bd91-40a9-b4a2-3a7a33d98707",
   "metadata": {},
   "source": [
    "|      | acousticness | danceability | energy | liveness | cosine similarity |\n",
    "| ---  | ---          | ---          | ---    | ---      |-------------------|\n",
    "| A    | 0.24         | 0.72         | 0.43   | 0.02     | **-0.40**         |\n",
    "| B    | 0.79         | 0.32         | 0.12   | 0.09     | **0.45**          |\n",
    "\n",
    "The song we should recommend to user $u$ is: **B because the cosine similarity is higher**"
   ]
  },
  {
   "cell_type": "code",
   "execution_count": 13,
   "outputs": [
    {
     "name": "stdout",
     "output_type": "stream",
     "text": [
      "user & A cosine similarity is -0.4023054258608007\n",
      "user & B cosine similarity is 0.44910822279380574\n"
     ]
    }
   ],
   "source": [
    "def cosine_similarity(x, y):\n",
    "    mag_x = np.linalg.norm(x)  #the magnitude of the vector\n",
    "    mag_y = np.linalg.norm(y)  #the magnitude of the vector\n",
    "    return np.dot(x, y) / (mag_x * mag_y)\n",
    "\n",
    "\n",
    "user_vector = np.array([1.0166666666666666, -0.5766666666666667, -0.7316666666666666, 0.06333333333333334])\n",
    "A = np.array([0.24, 0.72, 0.43, 0.02])\n",
    "B = np.array([0.79, 0.32, 0.12, 0.09])\n",
    "\n",
    "cosine_sim_u_and_A = cosine_similarity(user_vector, A)\n",
    "print(f\"user & A cosine similarity is {cosine_sim_u_and_A}\")\n",
    "\n",
    "cosine_sim_u_and_B = cosine_similarity(user_vector, B)\n",
    "print(f\"user & B cosine similarity is {cosine_sim_u_and_B}\")\n",
    "\n",
    "#clearly B is the winner!\n"
   ],
   "metadata": {
    "collapsed": false,
    "ExecuteTime": {
     "end_time": "2023-11-10T03:12:09.328937500Z",
     "start_time": "2023-11-10T03:12:08.935094100Z"
    }
   }
  },
  {
   "cell_type": "markdown",
   "id": "28f6ea0e-c1e7-4de9-a7b5-ec23d065c0b6",
   "metadata": {},
   "source": [
    "### 1.2 User-based Collaborative Filtering (7 Points)\n",
    "\n",
    "Given to you is a simple rating dataset containing 6 users $u_1, u_2, \\dots, u_6$, 8 songs $s_1, s_2, \\dots, s_8$, and the rating matrix $R$:\n",
    "\n",
    "$$\n",
    "R = \n",
    "\\begin{bmatrix} \n",
    "    4 & 0 & 0 & 3 & 5 & 0 & 1 & 4 \\\\\n",
    "    3 & 0 & 0 & 3 & 4 & 1 & 2 & 0 \\\\\n",
    "    1 & 0 & 0 & 2 & 0 & 5 & 4 & 2 \\\\\n",
    "    4 & 0 & 0 & 4 & 0 & 2 & 1 & 5 \\\\\n",
    "    3 & 3 & 0 & 2 & 4 & \\mathbf{\\color{red} ?}  & 1 & 2 \\\\\n",
    "    0 & 1 & 0 & 3 & 4 & 2 & 1 & 4\n",
    "\\end{bmatrix}\n",
    "$$\n",
    "\n",
    "In this example, the range of the ratings are from 1 to 5.\n",
    "\n",
    "Your overall task is to find the best estimate for rating $R_{u_5,s_6}$ of user $u_5$ for song $s_6$, indicated by the red question mark in rating matrix $R$."
   ]
  },
  {
   "cell_type": "markdown",
   "id": "48c62f72-16a3-4845-8bde-ebcd53068a9b",
   "metadata": {},
   "source": [
    "#### 1.2 a) Calculate User-User Similarities (5 Points)\n",
    "\n",
    "Calculate all cosine similarities between user $u_5$ and all other users! (5 Points)! Please complete the list of equations in the markdown below; please use a precision of 2 decimals.\n",
    "\n",
    "**Important:** Show at least for one equation how you calculate the similarity in detail. You can use an additional code or markdown cell.\n",
    "\n",
    "**Your answer:**\n",
    "\n",
    "Shown below is the equation for how to calculate the similarity between two rows say row1 and row5. (will show the rest with code)\n",
    "\n",
    "1. Normalize row1\n",
    "* $\\mu_{u_1} = \\frac{\\Sigma_{i=1}^{N} R_{1,s}}{N}$ (Where N is the number of non zero values, and $R_{1,s}$ represents the sth song rating of the 1st user)\n",
    "* => $\\frac{4+3+5+1+4}{5} = 3.4$\n",
    "* $R'_{1,s} = R_{1,s} - \\mu_{u_1}$ (subtract element wise but do not subtract whereever $R_{1,s}$ is zero or missing)\n",
    "* => \\[4-3.4,0,0,3-3.4,5-3.4,0,1-3.4,4-3.4\\] = \\[0.6, 0, 0, -0.4, 1.6, 0, -2.4, 0.6\\]\n",
    "\n",
    "2. Normalize row5\n",
    "* $\\mu_{u_5} = \\frac{\\Sigma_{i=1}^{N} R_{5,s}}{N}$ (Where N is the number of non zero values, and $R_{5,s}$ represents the sth song rating of the 1st user)\n",
    "* => $\\frac{3+3+2+4+1+2}{6} = 2.5 $\n",
    "* $R'_{5,s} = R_{5,s} - \\mu_{u_5}$ (subtract element wise but do not subtract whereever $R_{5,s}$ is zero or missing)\n",
    "* => \\[3-2.5, 3-2.5, 0 , 2-2.5\\, 4-2.5, 0, 1-2.5, 2-2.5] = \\[0.5, 0.5, 0, -0.5, 1.5, 0, -1.5, -0.5\\]\n",
    "\n",
    "3. Find similarity between row1 and row5\n",
    "* $sim(1,5) = \\frac{R'_1.R'_5}{|R'_1|*|R'_5|} $ (where the numerator '.' represents the vector dot product and the |x| operator represents the magnitude)\n",
    "* $sim(1,5) = \\frac{0.6*0.5 + 0*0.5 + 0*0 + (-0.4)(-0.5) + 1.6*1.5 + 0*0 + (-2.4)(-1.5) + (0.6)(-0.5)}{\\sqrt{0.6^2 + (-0.4)^2 + 1.6^2 + (-2.4)^2 + 0.6^2}*\\sqrt{0.5^2 + 0.5^2 + (-0.5)^2 + 1.5^2 + (-1.5)^2} + (-0.5)^2} = \\frac{6.199}{3.033 * 2.345} = 0.8715$"
   ]
  },
  {
   "cell_type": "markdown",
   "id": "197a9e69-6310-48cb-8815-77276f47172a",
   "metadata": {},
   "source": [
    "* sim($u_5$, $u_1$) = **0.87** (Adding this explicitly so that it helps in calculating the next values)\n",
    "* sim($u_5$, $u_2$) = **0.56**\n",
    "* sim($u_5$, $u_3$) = **-0.24**\n",
    "* sim($u_5$, $u_4$) = **0.31**\n",
    "* sim($u_5$, $u_5$) = **1.0**\n",
    "* sim($u_5$, $u_6$) = **0.38**\n",
    "\n",
    "**NOTE: Refer to the cells below for how each values were calculated.**"
   ]
  },
  {
   "cell_type": "code",
   "execution_count": 14,
   "outputs": [
    {
     "name": "stdout",
     "output_type": "stream",
     "text": [
      "Cosine similarity u5 & u1 is 0.8715984135290764\n",
      "Cosine similarity u5 & u2 is 0.5609681940050744\n",
      "Cosine similarity u5 & u3 is -0.24652466565114897\n",
      "Cosine similarity u5 & u4 is 0.31139957766460924\n",
      "Cosine similarity u5 & u5 is 1.0\n",
      "Cosine similarity u5 & u6 is 0.3804429551263411\n"
     ]
    }
   ],
   "source": [
    "#Input ratings matrix\n",
    "u1 = np.array([4, 0, 0, 3, 5, 0, 1, 4])\n",
    "u2 = np.array([3, 0, 0, 3, 4, 1, 2, 0])\n",
    "u3 = np.array([1, 0, 0, 2, 0, 5, 4, 2])\n",
    "u4 = np.array([4, 0, 0, 4, 0, 2, 1, 5])\n",
    "u5 = np.array([3, 3, 0, 2, 4, 0, 1, 2])\n",
    "u6 = np.array([0, 1, 0, 3, 4, 2, 1, 4])\n",
    "\n",
    "# calculate_mean\n",
    "mu_1 = np.mean(u1[u1 != 0])\n",
    "mu_2 = np.mean(u2[u2 != 0])\n",
    "mu_3 = np.mean(u3[u3 != 0])\n",
    "mu_4 = np.mean(u4[u4 != 0])\n",
    "mu_5 = np.mean(u5[u5 != 0])\n",
    "mu_6 = np.mean(u6[u6 != 0])\n",
    "\n",
    "#normalized values\n",
    "n_u1 = np.where(u1 != 0, u1 - mu_1, u1)\n",
    "n_u2 = np.where(u2 != 0, u2 - mu_2, u2)\n",
    "n_u3 = np.where(u3 != 0, u3 - mu_3, u3)\n",
    "n_u4 = np.where(u4 != 0, u4 - mu_4, u4)\n",
    "n_u5 = np.where(u5 != 0, u5 - mu_5, u5)\n",
    "n_u6 = np.where(u6 != 0, u6 - mu_6, u6)\n",
    "\n",
    "#compute the similarity scores\n",
    "sim_u15 = cosine_similarity(n_u1, n_u5)\n",
    "sim_u25 = cosine_similarity(n_u2, n_u5)\n",
    "sim_u35 = cosine_similarity(n_u3, n_u5)\n",
    "sim_u45 = cosine_similarity(n_u4, n_u5)\n",
    "sim_u55 = cosine_similarity(n_u5, n_u5)\n",
    "sim_u65 = cosine_similarity(n_u6, n_u5)\n",
    "\n",
    "# Print the cosine similarities\n",
    "print(f\"Cosine similarity u5 & u1 is {sim_u15}\")\n",
    "print(f\"Cosine similarity u5 & u2 is {sim_u25}\")\n",
    "print(f\"Cosine similarity u5 & u3 is {sim_u35}\")\n",
    "print(f\"Cosine similarity u5 & u4 is {sim_u45}\")\n",
    "print(f\"Cosine similarity u5 & u5 is {sim_u55}\")\n",
    "print(f\"Cosine similarity u5 & u6 is {sim_u65}\")"
   ],
   "metadata": {
    "collapsed": false,
    "ExecuteTime": {
     "end_time": "2023-11-10T03:12:09.449284Z",
     "start_time": "2023-11-10T03:12:09.039437700Z"
    }
   }
  },
  {
   "cell_type": "markdown",
   "id": "9eaf5a5e-ea62-4c57-acee-5b13af2a7048",
   "metadata": {},
   "source": [
    "#### 1.2 b) Calculate Estimated Rating (2 Points)\n",
    "\n",
    "Calculate the estimated rating $R_{u_5,s_6}$! Consider the 2 most similar users for this calculation. Show how you arrived at this result! You can use an additional code or markdown cell.\n",
    "\n",
    "**Your answer:**"
   ]
  },
  {
   "cell_type": "markdown",
   "id": "4ba2c5b4-9eaf-4d2d-8cd4-4166f153813d",
   "metadata": {},
   "source": [
    "From the above rows it looks like users 1 & 2 are the most similar to user 5.\n",
    "\n",
    "Therefore,\n",
    "$R_{u_5,s_6} = \\frac{sim(u5,u1) * R_{1,6} + sim(u5, u2) * R_{2,6}}{sim(u5,u1) + sim(u5, u2)} = \\frac{0.8715*0 + 0.5609*1}{0.8715 + 0.5609} = \\frac{0.5609}{1.4324} = 0.3915$\n"
   ]
  },
  {
   "cell_type": "markdown",
   "id": "f032ee14-481e-4cfa-95a9-c4b748c8d617",
   "metadata": {},
   "source": [
    "### 1.3 Matrix Factorization (16 Points)\n",
    "\n",
    "Matrix Factorization -- and here more specifically: non-negative Matrix Factorization -- is a class of algorithms where a matrix $M$ is factorized into (usually) two matrices $W$ and $H$, with the property that all three matrices have no negative elements. Matrix Factorization is popular techniques applied in recommender systems, where $W$ and $H$ contain a latent representation of all users and all items, respectively, and $M$ represents the rating matrix.\n",
    "\n",
    "In this task, you will implement (non-negative) Matrix Factorization from scratch using Gradient Descent as covered in the lecture. In fact, we use the rating matrix $M$ which was used as an example in the lecture:"
   ]
  },
  {
   "cell_type": "code",
   "execution_count": 15,
   "id": "cdca2b7e-dcd6-428b-a8d5-2a40881286d6",
   "metadata": {
    "ExecuteTime": {
     "end_time": "2023-11-10T03:12:09.919845700Z",
     "start_time": "2023-11-10T03:12:09.648143400Z"
    }
   },
   "outputs": [
    {
     "name": "stdout",
     "output_type": "stream",
     "text": [
      "[[4. 0. 0. 5. 1. 0. 0.]\n",
      " [5. 5. 4. 0. 0. 0. 0.]\n",
      " [0. 0. 0. 2. 4. 5. 0.]\n",
      " [0. 3. 0. 0. 0. 0. 3.]]\n"
     ]
    }
   ],
   "source": [
    "M = np.array([\n",
    "    [4, 0, 0, 5, 1, 0, 0],\n",
    "    [5, 5, 4, 0, 0, 0, 0],\n",
    "    [0, 0, 0, 2, 4, 5, 0],\n",
    "    [0, 3, 0, 0, 0, 0, 3]\n",
    "], dtype=np.float16)\n",
    "\n",
    "print(M)"
   ]
  },
  {
   "cell_type": "markdown",
   "id": "d4d88d1f-f2b7-4e5f-949d-cb7c4724292f",
   "metadata": {},
   "source": [
    "We provide you with the skeleton code for class `NMF` (short for Non-Negative Matrix Factorization). The code includes the initialization of matrices `W` and `H`, as well as of Matrix `Z`. Matrix `Z` is an auxiliary matrix containing the indices of all non-zero entries of Matrix `M`. Recall from the lecture that we need to compute the Gradient Descent based only on the non-zero entries in the rating matrix.\n",
    "\n",
    "The code cell below shows an example using the default parameter (`k=100`). The shapes of `W` and `H` reflect the number of users and items, as well as the size $k$ of the latent representations. The shape of `Z` is `(num_nonzero, 2)`. For example matrix `M`, the shape should be `(11, 2)` since `M` has 11 non-zero entries."
   ]
  },
  {
   "cell_type": "code",
   "execution_count": 16,
   "id": "f5ace682-51ed-4e17-92c0-544d07d3b38c",
   "metadata": {
    "ExecuteTime": {
     "end_time": "2023-11-10T03:12:10.206161700Z",
     "start_time": "2023-11-10T03:12:09.964378400Z"
    }
   },
   "outputs": [
    {
     "name": "stdout",
     "output_type": "stream",
     "text": [
      "W.shape = (4, 100)\n",
      "H.shape = (100, 7)\n",
      "Z.shape = (11, 2)\n",
      "\n",
      "Z containing all the indices of all non-zero entries in M (first 5 entries only)\n",
      "[[0 0]\n",
      " [0 3]\n",
      " [0 4]\n",
      " [1 0]\n",
      " [1 1]]\n"
     ]
    }
   ],
   "source": [
    "np.random.seed(0)\n",
    "\n",
    "nmf = NMF(M)\n",
    "\n",
    "print('W.shape = {}'.format(nmf.W.shape))\n",
    "print('H.shape = {}'.format(nmf.H.shape))\n",
    "print('Z.shape = {}'.format(nmf.Z.shape))\n",
    "print()\n",
    "print('Z containing all the indices of all non-zero entries in M (first 5 entries only)')\n",
    "print(nmf.Z[:5])"
   ]
  },
  {
   "cell_type": "markdown",
   "id": "d70d7cfe-22e4-4439-9ce6-9c7d3635acd7",
   "metadata": {},
   "source": [
    "We also provide you with the method `calc_loss()` which calculates the loss w.r.t. the current values of matrices `W` and `H`. **Important:** Note that method implements the loss without regularization! Since we need this method only to print the loss and so to see its trend over time, this simplified calculation is sufficient."
   ]
  },
  {
   "cell_type": "code",
   "execution_count": 17,
   "id": "4160d0a6-a8e4-4007-b0b6-e68321288732",
   "metadata": {
    "ExecuteTime": {
     "end_time": "2023-11-10T03:12:12.210662700Z",
     "start_time": "2023-11-10T03:12:10.810794500Z"
    }
   },
   "outputs": [
    {
     "name": "stdout",
     "output_type": "stream",
     "text": [
      "Initial loss: 4879.6\n"
     ]
    }
   ],
   "source": [
    "np.random.seed(0)\n",
    "\n",
    "nmf = NMF(M)\n",
    "\n",
    "loss = nmf.calc_loss()\n",
    "\n",
    "print('Initial loss: {:.1f}'.format(loss))"
   ]
  },
  {
   "cell_type": "markdown",
   "id": "afae2f59-53b6-4f7e-9a03-ff9e1996fa44",
   "metadata": {},
   "source": [
    "#### 1.3 a) Implement Non-Negative Matrix Factorization (8 Points)\n",
    "\n",
    "Implement method `fit()` to perform matrix factorization using Gradient Descent! The complete algorithm together with the required gradients is available as pseudo code in the lecture slides, and you are already familiar with the basic concept of Gradient Descent. Here, consider the regularization terms when calculating the gradients."
   ]
  },
  {
   "cell_type": "code",
   "execution_count": 18,
   "id": "2c1ba6d2-9483-4f10-bdaa-79eb36663faa",
   "metadata": {
    "ExecuteTime": {
     "end_time": "2023-11-10T03:12:12.337559900Z",
     "start_time": "2023-11-10T03:12:12.211693100Z"
    }
   },
   "outputs": [
    {
     "name": "stdout",
     "output_type": "stream",
     "text": [
      "Loss: 4638.72147 \t 0%\n",
      "Loss: 2911.73392 \t 10%\n",
      "Loss: 1931.49005 \t 20%\n",
      "Loss: 1330.81092 \t 30%\n",
      "Loss: 942.49529 \t 40%\n",
      "Loss: 681.48014 \t 50%\n",
      "Loss: 500.80400 \t 60%\n",
      "Loss: 372.86762 \t 70%\n",
      "Loss: 280.63586 \t 80%\n",
      "Loss: 213.17450 \t 90%\n",
      "Loss: 167.59880 \t 100%\n"
     ]
    }
   ],
   "source": [
    "np.random.seed(0)\n",
    "\n",
    "nmf = NMF(M)\n",
    "\n",
    "nmf.fit(verbose=True)"
   ]
  },
  {
   "cell_type": "markdown",
   "id": "8c90fbd3-e836-4bdf-9f9a-6c71600bc4b3",
   "metadata": {},
   "source": [
    "With the default values for all parameters  (`k=100`, `learning_rate=0.0001`, `lambda_reg=0.1`, `num_iter=100`), you should see a loss around **167.6** at the end of the training.\n",
    "\n",
    "**Important:** There are 2 different but equally fine solutions to implement Gradient Descent. Either\n",
    "* Calculate gradient with respect to w_u\n",
    "* Calculate gradient with respect to h_v\n",
    "* Update w_u\n",
    "* Update h_v\n",
    "\n",
    "or:\n",
    "\n",
    "* Calculate gradient with respect to w_u\n",
    "* Update w_u\n",
    "* Calculate gradient with respect to h_v\n",
    "* Update h_v\n",
    "\n",
    "Both solutions are correct, but you should appreciate the subtle difference. The reference solution follows the first approach, the algorithm on the lecture slides follows the second approach. So if you use the second approach, your output will be slighly different, the loss at the end won't be exactly 167.6 (but very similar)."
   ]
  },
  {
   "cell_type": "markdown",
   "id": "dea656c2-7f48-4deb-a0e5-3d08e70203c0",
   "metadata": {},
   "source": [
    "**Predicting unknown ratings (nothing for you to do here).** With our learned estimates for `W` and `H`, we can simply calculate matrix `P` as the product of `W` and `H`, representing the matrix of predicted ratings. We encapsulate this simple computation in method `predict()`."
   ]
  },
  {
   "cell_type": "code",
   "execution_count": 19,
   "id": "2ab78c45-ce8e-480e-82ad-e8ae7488da70",
   "metadata": {
    "ExecuteTime": {
     "end_time": "2023-11-10T03:12:12.417901800Z",
     "start_time": "2023-11-10T03:12:12.335558400Z"
    }
   },
   "outputs": [
    {
     "name": "stdout",
     "output_type": "stream",
     "text": [
      "[[ 7.02 10.17 11.97  7.85  5.61 10.61 12.52]\n",
      " [ 7.75  6.9   8.05 11.22  9.09 14.9  13.09]\n",
      " [ 9.65  8.96 10.37  7.02  6.81  8.33 10.76]\n",
      " [ 9.11  7.25 10.69 11.67  9.07 12.4   9.27]]\n"
     ]
    }
   ],
   "source": [
    "P = nmf.predict()\n",
    "\n",
    "print(np.around(P, 2))"
   ]
  },
  {
   "cell_type": "markdown",
   "id": "10183f47-e076-42df-ab03-a0f1f93e2c2d",
   "metadata": {},
   "source": [
    "With the default values for all parameters  (`k=100`, `learning_rate=0.0001`, `lambda_reg=0.1`, `num_iter=100`), the result should look something like this:\n",
    "\n",
    "```\n",
    "[[ 7.02 10.17 11.97  7.85  5.61 10.61 12.52]\n",
    " [ 7.75  6.9   8.05 11.22  9.09 14.9  13.09]\n",
    " [ 9.65  8.96 10.37  7.02  6.81  8.33 10.76]\n",
    " [ 9.11  7.25 10.69 11.67  9.07 12.4   9.27]]\n",
    "```"
   ]
  },
  {
   "cell_type": "markdown",
   "id": "ca350f89-76f6-4fec-94f3-6c257f692afc",
   "metadata": {},
   "source": [
    "#### 1.3 b) Hyperparameter Exploration (3 Points)\n",
    "\n",
    "Explore different hyperparameter settings and briefly explain your observations! You can use the code cell below for that; you can simply set different values for `k`, `learning_rate`, `lambda_reg`, and `num_iter`.\n",
    "\n",
    "**Your answer:**\n",
    "\n",
    "1. <u>K:</u>\n",
    "* <u>Low K:</u>\n",
    "    - The loss value here is 43.16182\n",
    "    - In this case, the model is capturing a reasonable approximation of the original matrix with a lower-dimensional representation (k=10).\n",
    "    - However, it is most likely underfitting in this case as this loss value could be more lower\n",
    "* <u>High K:</u>\n",
    "    - The loss value here is 0.06771\n",
    "    - The extremely low loss value indicates the model is overfitting the training data.\n",
    "    - The high-dimensional representation (k=1000) allows the model to memorize the training examples, but it might not generalize well to new data.\n",
    "    - High values like 51 and 60 in place of 0 might be a result of the model capturing noise in the data due to overfitting.\n",
    "<br>\n",
    "\n",
    "2. <u>Learning rate:</u>\n",
    "* <u>Low Learning rate:</u>\n",
    "    - The learning rate in the default setting is what I am considering as low learning rate.\n",
    "    - This approach results in a final loss of 167.59\n",
    "    - The convergence and decrease of loss values every iteration is gradual & slow, but could be faster considering how other experiments\n",
    "* <u>High Learning rate:</u>\n",
    "    - The final loss here is 0.07029\n",
    "    - The rapid convergence with a low loss suggests the model is learning quickly.\n",
    "    - Generally speaking, a too high learning rate might lead to overshooting and instability but based on the reconstructions of the original matrix running it for a few more epochs might reach to an optimal configuration.\n",
    "<br>\n",
    "\n",
    "3. <u>Lambda reg:</u>\n",
    "* <u>Low lambda:</u>\n",
    "    - The final loss with low lambda of 0.001 is 158.87566\n",
    "    - A lower regularization term (lambda) allows the model to fit the data more closely by ensuring that the model does not overfit.\n",
    "    - In this case however, because the lambda value is very low it is still prone to overfitting which becomes more evident when running this configuration for more iterations which results in a final loss of 0.0\n",
    "* <u>High lambda:</u>\n",
    "    - The final loss with high lambda of 1 is 138.0035\n",
    "    - A lower regularization term (lambda) allows the model to fit the data more closely by ensuring that the model does not overfit.\n",
    "    - In this case however, because the lambda value is very high it might be prone to underfitting as it tries to prevent overfitting as is evident from the large loss value\n",
    "<br>\n",
    "\n",
    "4. <u>Num iter:</u>\n",
    "* <u>Low iterations</u>\n",
    "    - The final loss with low iterations ( which is the default configuration ) is 167.59\n",
    "    - Generally speaking running the same configuration for lesser number of iterations means that the model might not be able to converge to the optimal state possible resulting in higher loss values.\n",
    "* <u>High iterations</u>\n",
    "    - The final loss with more iterations (of 9999) is around 0.05445\n",
    "    - The high number of iterations allows the model to try converging to a very low loss.\n",
    "    - The reconstructed matrix appears reasonable and likely captures more intricate patterns.\n",
    "    - However, there's a risk of overfitting if the model starts fitting noise in the data.\n",
    "    - When attempting run the same number of iterations but with a low lambda value it basically overfitted to the training data resulting in a loss of 0.0 which is not ideal\n",
    "<br>"
   ]
  },
  {
   "cell_type": "code",
   "execution_count": 35,
   "id": "7013a58e-1d94-4a63-815a-5f771528db26",
   "metadata": {
    "ExecuteTime": {
     "end_time": "2023-11-10T08:54:54.220717100Z",
     "start_time": "2023-11-10T08:54:50.951508400Z"
    }
   },
   "outputs": [
    {
     "name": "stdout",
     "output_type": "stream",
     "text": [
      "\n",
      "\n",
      "1.) Low K | k:10, lr: 0.0001, lambda: 0.1, iter: 100\n"
     ]
    },
    {
     "name": "stderr",
     "output_type": "stream",
     "text": [
      "100%|██████████| 100/100 [00:00<00:00, 7935.49it/s]\n"
     ]
    },
    {
     "name": "stdout",
     "output_type": "stream",
     "text": [
      "Loss: 43.16182 \t 0%\n",
      "Loss: 41.88405 \t 10%\n",
      "Loss: 40.64619 \t 20%\n",
      "Loss: 39.44754 \t 30%\n",
      "Loss: 38.28739 \t 40%\n",
      "Loss: 37.16500 \t 50%\n",
      "Loss: 36.07962 \t 60%\n",
      "Loss: 35.03051 \t 70%\n",
      "Loss: 34.01688 \t 80%\n",
      "Loss: 33.03796 \t 90%\n",
      "Loss: 32.18595 \t 100%\n",
      "\n",
      "Reconstructed rating matrix:\n",
      "[[2.91 2.14 3.51 1.88 3.26 2.93 2.47]\n",
      " [3.2  2.24 3.37 1.77 3.23 3.01 2.29]\n",
      " [2.72 2.37 3.17 1.81 3.08 3.3  1.96]\n",
      " [2.48 2.11 2.97 1.82 2.76 2.54 2.43]]\n",
      "------------------------------------------------------------------------------------------\n",
      "\n",
      "\n",
      "2.) High K | k:1000, lr: 0.0001, lambda: 0.1, iter: 100\n"
     ]
    },
    {
     "name": "stderr",
     "output_type": "stream",
     "text": [
      "100%|██████████| 100/100 [00:00<00:00, 3188.59it/s]\n"
     ]
    },
    {
     "name": "stdout",
     "output_type": "stream",
     "text": [
      "Loss: 388890.62160 \t 0%\n",
      "Loss: 15140.37078 \t 10%\n",
      "Loss: 1196.82648 \t 20%\n",
      "Loss: 139.66938 \t 30%\n",
      "Loss: 28.00136 \t 40%\n",
      "Loss: 8.32982 \t 50%\n",
      "Loss: 2.90245 \t 60%\n",
      "Loss: 1.06874 \t 70%\n",
      "Loss: 0.40431 \t 80%\n",
      "Loss: 0.15627 \t 90%\n",
      "Loss: 0.06771 \t 100%\n",
      "\n",
      "Reconstructed rating matrix:\n",
      "[[ 4.04 51.37 60.97  4.9   1.09 59.04 67.23]\n",
      " [ 4.91  4.97  4.08 60.62 51.79 70.89 58.94]\n",
      " [46.74 46.16 63.55  1.96  3.88  5.12 59.83]\n",
      " [55.26  2.97 82.67 69.45 65.27 81.21  3.03]]\n",
      "------------------------------------------------------------------------------------------\n",
      "\n",
      "\n",
      "3.) High LR | k:100, lr: 0.01, lambda: 0.1, iter: 100\n"
     ]
    },
    {
     "name": "stderr",
     "output_type": "stream",
     "text": [
      "100%|██████████| 100/100 [00:00<00:00, 6399.22it/s]\n"
     ]
    },
    {
     "name": "stdout",
     "output_type": "stream",
     "text": [
      "Loss: 229.12234 \t 0%\n",
      "Loss: 0.04638 \t 10%\n",
      "Loss: 0.03027 \t 20%\n",
      "Loss: 0.03450 \t 30%\n",
      "Loss: 0.03924 \t 40%\n",
      "Loss: 0.04426 \t 50%\n",
      "Loss: 0.04946 \t 60%\n",
      "Loss: 0.05479 \t 70%\n",
      "Loss: 0.06017 \t 80%\n",
      "Loss: 0.06553 \t 90%\n",
      "Loss: 0.07029 \t 100%\n",
      "\n",
      "Reconstructed rating matrix:\n",
      "[[3.91 2.83 4.3  4.84 1.03 5.32 4.92]\n",
      " [4.89 4.88 3.98 4.39 5.48 6.83 6.35]\n",
      " [3.57 3.62 5.02 2.01 3.93 4.96 4.16]\n",
      " [3.62 2.96 4.01 3.25 4.1  6.26 2.97]]\n",
      "------------------------------------------------------------------------------------------\n",
      "\n",
      "\n",
      "4.) Low Lambda | k:100, lr: 0.0001, lambda: 0.001, iter: 100\n"
     ]
    },
    {
     "name": "stderr",
     "output_type": "stream",
     "text": [
      "100%|██████████| 100/100 [00:00<00:00, 6399.51it/s]\n"
     ]
    },
    {
     "name": "stdout",
     "output_type": "stream",
     "text": [
      "Loss: 4736.54681 \t 0%\n",
      "Loss: 2910.33369 \t 10%\n",
      "Loss: 1903.90826 \t 20%\n",
      "Loss: 1298.82502 \t 30%\n",
      "Loss: 912.86745 \t 40%\n",
      "Loss: 656.05461 \t 50%\n",
      "Loss: 479.73646 \t 60%\n",
      "Loss: 355.75294 \t 70%\n",
      "Loss: 266.92101 \t 80%\n",
      "Loss: 202.31018 \t 90%\n",
      "Loss: 158.87566 \t 100%\n",
      "\n",
      "Reconstructed rating matrix:\n",
      "[[ 7.13  7.56 10.    7.9   6.28  9.61  9.11]\n",
      " [ 7.21  6.67  9.2  10.71 10.13 11.18  9.62]\n",
      " [11.51  9.19 11.32  6.49  7.    7.32  9.85]\n",
      " [12.48  7.45 11.98 11.67 11.05 13.06  7.88]]\n",
      "------------------------------------------------------------------------------------------\n",
      "\n",
      "\n",
      "5.) High Lambda | k:100, lr: 0.0001, lambda: 1, iter: 100\n"
     ]
    },
    {
     "name": "stderr",
     "output_type": "stream",
     "text": [
      "100%|██████████| 100/100 [00:00<00:00, 3067.31it/s]\n"
     ]
    },
    {
     "name": "stdout",
     "output_type": "stream",
     "text": [
      "Loss: 4607.75587 \t 0%\n",
      "Loss: 2807.98890 \t 10%\n",
      "Loss: 1817.87097 \t 20%\n",
      "Loss: 1225.76321 \t 30%\n",
      "Loss: 850.98874 \t 40%\n",
      "Loss: 603.94225 \t 50%\n",
      "Loss: 436.10331 \t 60%\n",
      "Loss: 319.41030 \t 70%\n",
      "Loss: 236.78945 \t 80%\n",
      "Loss: 177.43028 \t 90%\n",
      "Loss: 138.00350 \t 100%\n",
      "\n",
      "Reconstructed rating matrix:\n",
      "[[ 6.66  7.36  9.63  7.43  6.   10.35  9.32]\n",
      " [ 7.57  6.15  7.95 11.87 10.3  14.27 10.98]\n",
      " [ 7.34  7.49  6.71  6.14  4.95  8.06  7.63]\n",
      " [11.05  6.75 11.29 12.58 12.26 14.46  8.91]]\n",
      "------------------------------------------------------------------------------------------\n",
      "\n",
      "\n",
      "6.) Low Iterations | k:100, lr: 0.0001, lambda: 0.1, iter: 10\n"
     ]
    },
    {
     "name": "stderr",
     "output_type": "stream",
     "text": [
      "100%|██████████| 10/10 [00:00<?, ?it/s]\n"
     ]
    },
    {
     "name": "stdout",
     "output_type": "stream",
     "text": [
      "Loss: 4227.37349 \t 0%\n",
      "Loss: 4023.70103 \t 10%\n",
      "Loss: 3832.65400 \t 20%\n",
      "Loss: 3653.23992 \t 30%\n",
      "Loss: 3484.56177 \t 40%\n",
      "Loss: 3325.80720 \t 50%\n",
      "Loss: 3176.23908 \t 60%\n",
      "Loss: 3035.18725 \t 70%\n",
      "Loss: 2902.04136 \t 80%\n",
      "Loss: 2776.24453 \t 90%\n",
      "Loss: 2776.24453 \t 100%\n",
      "\n",
      "Reconstructed rating matrix:\n",
      "[[16.9  18.73 19.71 18.38 16.94 19.55 18.76]\n",
      " [19.68 19.51 19.85 21.68 17.51 22.9  19.32]\n",
      " [20.68 18.96 22.97 20.96 18.57 22.03 19.83]\n",
      " [22.38 21.74 21.89 22.68 19.35 22.92 19.93]]\n",
      "------------------------------------------------------------------------------------------\n",
      "\n",
      "\n",
      "7.) High Iterations | k:100, lr: 0.0001, lambda: 0.1, iter: 9999\n"
     ]
    },
    {
     "name": "stderr",
     "output_type": "stream",
     "text": [
      "  0%|          | 0/9999 [00:00<?, ?it/s]"
     ]
    },
    {
     "name": "stdout",
     "output_type": "stream",
     "text": [
      "Loss: 4236.43925 \t 0%\n"
     ]
    },
    {
     "name": "stderr",
     "output_type": "stream",
     "text": [
      "100%|██████████| 9999/9999 [00:01<00:00, 6521.01it/s]\n"
     ]
    },
    {
     "name": "stdout",
     "output_type": "stream",
     "text": [
      "Loss: 0.05445 \t 100%\n",
      "\n",
      "Reconstructed rating matrix:\n",
      "[[3.93 4.58 5.79 4.87 1.06 6.4  6.52]\n",
      " [4.92 4.91 4.   5.08 4.26 7.09 5.84]\n",
      " [4.51 4.67 4.43 2.03 3.9  4.95 4.6 ]\n",
      " [4.7  2.97 5.72 4.42 4.06 5.68 2.98]]\n",
      "------------------------------------------------------------------------------------------\n",
      "\n",
      "\n",
      "8.) Low Lambda & High iterations | k:100, lr: 0.0001, lambda: 0.001, iter: 9999\n"
     ]
    },
    {
     "name": "stderr",
     "output_type": "stream",
     "text": [
      "  7%|▋         | 692/9999 [00:00<00:01, 6274.32it/s]"
     ]
    },
    {
     "name": "stdout",
     "output_type": "stream",
     "text": [
      "Loss: 4726.21935 \t 0%\n"
     ]
    },
    {
     "name": "stderr",
     "output_type": "stream",
     "text": [
      "100%|██████████| 9999/9999 [00:01<00:00, 6389.36it/s]"
     ]
    },
    {
     "name": "stdout",
     "output_type": "stream",
     "text": [
      "Loss: 0.00000 \t 100%\n",
      "\n",
      "Reconstructed rating matrix:\n",
      "[[ 4.    6.46  7.25  5.    1.    6.97  7.28]\n",
      " [ 5.    5.    4.    6.03  6.62  9.59  7.77]\n",
      " [10.41  7.38 10.2   2.    4.    5.    8.87]\n",
      " [ 8.17  3.   10.23  9.52  8.94  9.61  3.  ]]\n",
      "------------------------------------------------------------------------------------------\n"
     ]
    },
    {
     "name": "stderr",
     "output_type": "stream",
     "text": [
      "\n"
     ]
    }
   ],
   "source": [
    "np.random.seed(0)\n",
    "\n",
    "experiments = [\n",
    "    (\"Low K\", 10, 0.0001, 0.1, 100), #low k\n",
    "    (\"High K\", 1000, 0.0001, 0.1, 100), #higher k\n",
    "    (\"High LR\", 100, 0.01, 0.1, 100), #higher learning rate\n",
    "    (\"Low Lambda\", 100, 0.0001, 0.001, 100), #low lambda\n",
    "    (\"High Lambda\", 100, 0.0001, 1, 100), #high lambda\n",
    "    (\"Low Iterations\", 100, 0.0001, 0.1, 10), #low iterations\n",
    "    (\"High Iterations\", 100, 0.0001, 0.1, 9999), #high iterations\n",
    "    (\"Low Lambda & High iterations\", 100, 0.0001, 0.001, 9999), #low lambda\n",
    "]\n",
    "\n",
    "for i, item in enumerate(experiments):\n",
    "    experiment, k, learning_rate, lambda_reg, num_iter = item\n",
    "    print()\n",
    "    print()\n",
    "    print(f\"{i+1}.) {experiment} | k:{k}, lr: {learning_rate}, lambda: {lambda_reg}, iter: {num_iter}\")\n",
    "    nmf = NMF(M, k=k)\n",
    "    nmf.fit(learning_rate=learning_rate, lambda_reg=lambda_reg, num_iter=num_iter, verbose=True)\n",
    "    P = nmf.predict()\n",
    "    print('\\nReconstructed rating matrix:')\n",
    "    print(np.around(P, 2))\n",
    "    print(\"-\"*90)"
   ]
  },
  {
   "cell_type": "markdown",
   "id": "a4374dd6-c24d-44b0-897d-0824f9a2781e",
   "metadata": {},
   "source": [
    "#### 1.3 c) Matrix Factorization & Updates (5 Points)\n",
    "\n",
    "You have now implemented a basic model-based recommender system using (non-negative) Matrix Factorization. Since we used only a toy rating matrix, performance was not an issue here. In real-world recommendations with many users and items, Matrix Factorization can be quite time consuming. The problem is that online platforms are very dynamic: users are joining and leaving, new items are added, users add new or update previous ratings. All of those cases change the rating matrix.\n",
    "\n",
    "**How do different cases (e.g., new user/item/rating) affect a current result of a Matrix Factorization for a recommender system? (3 Points)** Outline the different problems, and discuss meaningful approaches to mitigate them. For example, a new user or item refers to the *Cold-Start Problem*. What are good practical strategies to address the Cold-Start Problem and other changes to the rating matrix using Matrix Factorization?\n",
    "\n",
    "(Note: When you're discussing challenges regarding runtime/performance, please **exclude** any solutions relying on bigger clusters and parallel computing :). While those are valid points, in principle, here we want to focus on conceptual solutions).\n",
    "\n",
    "**Your answer:**\n",
    "\n",
    "TODO.2"
   ]
  },
  {
   "cell_type": "markdown",
   "id": "34e4110c-546f-4d15-8658-b0d3f1ddb7fe",
   "metadata": {},
   "source": [
    "## Graph Mining (20 Points)\n",
    "\n",
    "### Load and Prepare Data\n",
    "\n",
    "Throughout this section we work the MRT train network as our underlying graph. The MRT stations mark the nodes, and there is an edge (directed or undirected; see below) if there is a direct train connection between the respective MRT stations.\n",
    "\n",
    "**Load data from files.** We first load the information about the MRT stations. We only need this information to have access to the latitude and longitude of the stations, so we can plot the MRT graph and preserve the relative geographic locations of the MRT stations."
   ]
  },
  {
   "cell_type": "code",
   "execution_count": 20,
   "id": "0aa810fa-f19d-4dcc-bb2f-535a46eda405",
   "metadata": {
    "ExecuteTime": {
     "end_time": "2023-11-10T03:12:21.411662500Z",
     "start_time": "2023-11-10T03:12:21.272474800Z"
    }
   },
   "outputs": [
    {
     "data": {
      "text/plain": "  code           name  opening_year  latitude   longitude\n0  NS1    Jurong East          1990  1.333295  103.742154\n1  NS2    Bukit Batok          1990  1.349035  103.749526\n2  NS3   Bukit Gombak          1990  1.358663  103.751913\n3  NS4  Choa Chu Kang          1990  1.385363  103.744371\n4  NS5        Yew Tee          1996  1.397476  103.747418",
      "text/html": "<div>\n<style scoped>\n    .dataframe tbody tr th:only-of-type {\n        vertical-align: middle;\n    }\n\n    .dataframe tbody tr th {\n        vertical-align: top;\n    }\n\n    .dataframe thead th {\n        text-align: right;\n    }\n</style>\n<table border=\"1\" class=\"dataframe\">\n  <thead>\n    <tr style=\"text-align: right;\">\n      <th></th>\n      <th>code</th>\n      <th>name</th>\n      <th>opening_year</th>\n      <th>latitude</th>\n      <th>longitude</th>\n    </tr>\n  </thead>\n  <tbody>\n    <tr>\n      <th>0</th>\n      <td>NS1</td>\n      <td>Jurong East</td>\n      <td>1990</td>\n      <td>1.333295</td>\n      <td>103.742154</td>\n    </tr>\n    <tr>\n      <th>1</th>\n      <td>NS2</td>\n      <td>Bukit Batok</td>\n      <td>1990</td>\n      <td>1.349035</td>\n      <td>103.749526</td>\n    </tr>\n    <tr>\n      <th>2</th>\n      <td>NS3</td>\n      <td>Bukit Gombak</td>\n      <td>1990</td>\n      <td>1.358663</td>\n      <td>103.751913</td>\n    </tr>\n    <tr>\n      <th>3</th>\n      <td>NS4</td>\n      <td>Choa Chu Kang</td>\n      <td>1990</td>\n      <td>1.385363</td>\n      <td>103.744371</td>\n    </tr>\n    <tr>\n      <th>4</th>\n      <td>NS5</td>\n      <td>Yew Tee</td>\n      <td>1996</td>\n      <td>1.397476</td>\n      <td>103.747418</td>\n    </tr>\n  </tbody>\n</table>\n</div>"
     },
     "execution_count": 20,
     "metadata": {},
     "output_type": "execute_result"
    }
   ],
   "source": [
    "df_mrt_stations = pd.read_csv('data/a4-mrt-stations.csv')\n",
    "\n",
    "df_mrt_stations.head()"
   ]
  },
  {
   "cell_type": "markdown",
   "id": "3525a7d5-8b81-4589-b881-f8e75351ba3e",
   "metadata": {},
   "source": [
    "The following file contains the main information: Which MRT stations are directly connected with by a train. Note that the file contains each connection twice for both directions."
   ]
  },
  {
   "cell_type": "code",
   "execution_count": 21,
   "id": "4f56e12a-e1a7-4fa4-97dc-26a446263d84",
   "metadata": {
    "ExecuteTime": {
     "end_time": "2023-11-10T03:12:21.835106400Z",
     "start_time": "2023-11-10T03:12:21.726021100Z"
    }
   },
   "outputs": [
    {
     "data": {
      "text/plain": "         source   destination\n0        napier       stevens\n1         kovan     serangoon\n2     chinatown  fort canning\n3  potong pasir     boon keng\n4       farmway        kupang",
      "text/html": "<div>\n<style scoped>\n    .dataframe tbody tr th:only-of-type {\n        vertical-align: middle;\n    }\n\n    .dataframe tbody tr th {\n        vertical-align: top;\n    }\n\n    .dataframe thead th {\n        text-align: right;\n    }\n</style>\n<table border=\"1\" class=\"dataframe\">\n  <thead>\n    <tr style=\"text-align: right;\">\n      <th></th>\n      <th>source</th>\n      <th>destination</th>\n    </tr>\n  </thead>\n  <tbody>\n    <tr>\n      <th>0</th>\n      <td>napier</td>\n      <td>stevens</td>\n    </tr>\n    <tr>\n      <th>1</th>\n      <td>kovan</td>\n      <td>serangoon</td>\n    </tr>\n    <tr>\n      <th>2</th>\n      <td>chinatown</td>\n      <td>fort canning</td>\n    </tr>\n    <tr>\n      <th>3</th>\n      <td>potong pasir</td>\n      <td>boon keng</td>\n    </tr>\n    <tr>\n      <th>4</th>\n      <td>farmway</td>\n      <td>kupang</td>\n    </tr>\n  </tbody>\n</table>\n</div>"
     },
     "execution_count": 21,
     "metadata": {},
     "output_type": "execute_result"
    }
   ],
   "source": [
    "df_mrt = pd.read_csv('data/a4-mrt-connections.csv')\n",
    "\n",
    "df_mrt.head()"
   ]
  },
  {
   "cell_type": "markdown",
   "id": "c8f67d28-8223-42e2-9b7d-f23e9add76b5",
   "metadata": {},
   "source": [
    "### Create Graphs\n",
    "\n",
    "From this data, we can easily create our NetworkX graph."
   ]
  },
  {
   "cell_type": "code",
   "execution_count": 22,
   "id": "8becef58-46d8-4380-86b8-eb9a1669063e",
   "metadata": {
    "ExecuteTime": {
     "end_time": "2023-11-10T03:12:22.795640700Z",
     "start_time": "2023-11-10T03:12:22.137967300Z"
    }
   },
   "outputs": [],
   "source": [
    "## Create an \"empty\" directed graph\n",
    "G = nx.DiGraph()\n",
    "\n",
    "#NOTE: Adding an undirected graph so that it can be used later\n",
    "G_undirected = nx.Graph()\n",
    "\n",
    "for idx, row in df_mrt.iterrows():\n",
    "    try:\n",
    "        df_mrt_stations.loc[df_mrt_stations.name.str.lower() == row['source']].iloc[0]\n",
    "        df_mrt_stations.loc[df_mrt_stations.name.str.lower() == row['destination']].iloc[0]\n",
    "        G.add_edge(row['source'], row['destination'])\n",
    "        G_undirected.add_edge(row['source'], row['destination'])\n",
    "    except:\n",
    "        pass"
   ]
  },
  {
   "cell_type": "markdown",
   "id": "f04ada3d-f46e-4303-9bfe-e5ac8223bbec",
   "metadata": {},
   "source": [
    "We provide you with the method `plot_mrt_graph()` to visualize the train network. As mentioned before, we can utilize the information about the geo-coordinates of MRT stations to preserve their relative location. Of course the connections between the nodes / MRT stations are still just straight lines."
   ]
  },
  {
   "cell_type": "code",
   "execution_count": 23,
   "id": "daa46e78-0d1d-446f-af78-8d8dfbdcf096",
   "metadata": {
    "ExecuteTime": {
     "end_time": "2023-11-10T03:12:24.851131800Z",
     "start_time": "2023-11-10T03:12:22.776245600Z"
    }
   },
   "outputs": [
    {
     "data": {
      "text/plain": "<Figure size 640x480 with 1 Axes>",
      "image/png": "[encoded data removed]"
     },
     "metadata": {},
     "output_type": "display_data"
    }
   ],
   "source": [
    "plot_mrt_graph(G, df_mrt_stations)\n",
    "\n",
    "#NOTE: Had to make some minor changes to the util function as my version of networkx is probably different"
   ]
  },
  {
   "cell_type": "markdown",
   "id": "4ec3fe93-3ede-47d7-a7d0-7a652065f408",
   "metadata": {},
   "source": [
    "### 2.1 Implementing Closeness Centrality (4 Points)\n",
    "\n",
    "The Closeness Centrality of a node $v$ is defined as\n",
    "\n",
    "$$\n",
    "closeness(v) = \\frac{N}{\\sum_{w\\in V}d(v,w)}\n",
    "$$\n",
    "\n",
    "where $N$ is the number of nodes that can be reached from $v$, and $d(v,w)$ is the length of the shortest path between node $v$ and a node $w$.\n",
    "\n",
    "We saw that both distance-based centrality measure Closeness and Betweenness require the to solve the All-Pairs Shortest Paths (APSP) problem. Since this is not a \"programming\" or \"algorithms and data structures\" module, we don't expect you to come up with your own solution for the problem from scratch. For this task, you can utilize any method from [`nx.algorithms.shortest_paths`](https://networkx.org/documentation/stable/reference/algorithms/shortest_paths.html). Using a method to compute the shortest path between two nodes will make the computation of Closeness Centrality pretty straightforward.\n",
    "\n",
    "**Implement method `closeness()` to compute the Closeness Centrality of a Graph G.** You can assume the input Graph G being strongly connected, undirected, and unweighted.\n",
    "\n",
    "You can use the code cell below to test your implementation."
   ]
  },
  {
   "cell_type": "code",
   "execution_count": 24,
   "id": "12a2efe7-8867-4588-865d-6458f3cca000",
   "metadata": {
    "ExecuteTime": {
     "end_time": "2023-11-10T03:12:24.971465200Z",
     "start_time": "2023-11-10T03:12:24.840930600Z"
    }
   },
   "outputs": [
    {
     "name": "stdout",
     "output_type": "stream",
     "text": [
      "stevens (0.14504)\n",
      "little india (0.14488)\n",
      "newton (0.14488)\n",
      "caldecott (0.14425)\n",
      "botanic gardens (0.14149)\n"
     ]
    }
   ],
   "source": [
    "my_closeness_scores = closeness(G)\n",
    "\n",
    "for station, score in sorted(my_closeness_scores.items(), key=lambda kv: kv[1], reverse=True)[:5]:\n",
    "    print('{} ({:.5f})'.format(station, score))"
   ]
  },
  {
   "cell_type": "markdown",
   "id": "1ac84638-c96f-46bf-ba1a-15d13e7437cd",
   "metadata": {},
   "source": [
    "**Compare your implementation with the one from NetworkX**. The code cell below computes the Closeness Centrality over the *undirected* MRT graph using the implementation from NetworkX, and again shows the 5 MRT stations with the highest scores. *Important:* The NetworkX implementation uses a slightly different definition of the Closeness Centrality. The exact values (typically from the 3rd decimal position onward) will differ a bit. However, the values should be very similar and the ranking of the top-5 MRT stations should be the same."
   ]
  },
  {
   "cell_type": "code",
   "execution_count": 25,
   "id": "35769187-1912-4250-ad9e-128995b82ef0",
   "metadata": {
    "ExecuteTime": {
     "end_time": "2023-11-10T03:12:25.106289100Z",
     "start_time": "2023-11-10T03:12:24.946776600Z"
    }
   },
   "outputs": [
    {
     "name": "stdout",
     "output_type": "stream",
     "text": [
      "stevens (0.14504)\n",
      "little india (0.14488)\n",
      "newton (0.14488)\n",
      "caldecott (0.14425)\n",
      "botanic gardens (0.14149)\n"
     ]
    }
   ],
   "source": [
    "nx_closeness_scores = nx.algorithms.centrality.closeness_centrality(G, wf_improved=False)\n",
    "\n",
    "for station, score in sorted(nx_closeness_scores.items(), key=lambda kv: kv[1], reverse=True)[:5]:\n",
    "    print('{} ({:.5f})'.format(station, score))"
   ]
  },
  {
   "cell_type": "markdown",
   "id": "7f263d87-54b9-4052-827e-cb613fe1fb25",
   "metadata": {},
   "source": [
    "### 2.2 Implementing PageRank Centrality (8 Points)\n",
    "\n",
    "In this task, you will implement the basic PageRank algorithm using the Power Iteration methods as introduced in the lecture.\n",
    "\n",
    "$$\n",
    "c_{PR} = \\alpha M c_{PR} + (1-\\alpha)E\n",
    "$$\n",
    "\n",
    "where $E = (1/n, 1/n, ..., 1/n)^T$ with $n$ being the number of nodes.\n",
    "\n",
    "Recall from the lecture that PageRank requires the **transition matrix** of a graph is input. For this, we provide you with the method `create_transition_matrix(A)` that converts the adjacency matrix of a Graph G into an transition matrix. Check out also the given code in method `pagerank()` where we use a numpy method to convert the Graph G to its adjacency matrix and then call `create_transition_matrix(A)`.\n",
    "\n",
    "**Implement method `pagerank()` to compute the PageRank Centrality of a Graph G**.  You can assume the input Graph G being strongly connected, directed, and unweighted.\n",
    "\n",
    "You can use the code cell below to test your implementation."
   ]
  },
  {
   "cell_type": "code",
   "execution_count": 26,
   "id": "20e8814b-09d9-486b-9477-ab2e8fef0335",
   "metadata": {
    "ExecuteTime": {
     "end_time": "2023-11-10T03:12:25.129042700Z",
     "start_time": "2023-11-10T03:12:25.041679Z"
    }
   },
   "outputs": [
    {
     "name": "stdout",
     "output_type": "stream",
     "text": [
      "Reached convergence\n",
      "outram park (0.01646)\n",
      "marina bay (0.01470)\n",
      "woodlands (0.01347)\n",
      "tampines (0.01312)\n",
      "dhoby ghaut (0.01289)\n"
     ]
    }
   ],
   "source": [
    "my_pagerank_scores = pagerank(G)\n",
    "\n",
    "for station, score in sorted(my_pagerank_scores.items(), key=lambda kv: kv[1], reverse=True)[:5]:\n",
    "    print('{} ({:.5f})'.format(station, score))\n",
    "\n",
    "#NOTE. for dhoby ghaut actual value is 0.012886 which has been rounded to 0.01289"
   ]
  },
  {
   "cell_type": "markdown",
   "id": "80a30bd2-0b19-49b9-b9d9-85730351563b",
   "metadata": {},
   "source": [
    "**Compare your implementation with the one from NetworkX**. The code cell below computes the PageRank Centrality over the *directed* MRT graph using the implementation from NetworkX, and again shows the 5 MRT stations with the highest scores. Apart from minor precision issues, the NetworkX result and your result should match, of course. Note that your implementation and the one of NetworkX are using the same default value for `alpha` and `eps` (called `tol` in case of NetworkX)."
   ]
  },
  {
   "cell_type": "code",
   "execution_count": 27,
   "id": "eed90d12-aad2-4dfe-a7cc-9a8eeb6fefab",
   "metadata": {
    "ExecuteTime": {
     "end_time": "2023-11-10T03:12:25.608516400Z",
     "start_time": "2023-11-10T03:12:25.115818600Z"
    }
   },
   "outputs": [
    {
     "name": "stdout",
     "output_type": "stream",
     "text": [
      "outram park (0.01646)\n",
      "marina bay (0.01470)\n",
      "woodlands (0.01347)\n",
      "tampines (0.01312)\n",
      "dhoby ghaut (0.01288)\n"
     ]
    }
   ],
   "source": [
    "nx_pagerank_scores = nx.pagerank(G)\n",
    "\n",
    "for station, score in sorted(nx_pagerank_scores.items(), key=lambda kv: kv[1], reverse=True)[:5]:\n",
    "    print('{} ({:.5f})'.format(station, score))"
   ]
  },
  {
   "cell_type": "markdown",
   "id": "fdd463ce-f855-4c1e-b1de-b6ed8c1b5225",
   "metadata": {},
   "source": [
    "### 2.3 Comparing Centrality Measures (8 Points)\n",
    "\n",
    "We saw in the lecture that different centrality measures look at different topological features of a graph to quantify the importance of nodes. This task compares different measures, using the following implementations provided by `networkX`:\n",
    "\n",
    "* [nx.algorithms.link_analysis.pagerank](https://networkx.org/documentation/networkx-1.10/reference/generated/networkx.algorithms.link_analysis.pagerank_alg.pagerank.html)\n",
    "* [nx.centrality.in_degree_centrality](https://networkx.org/documentation/networkx-1.10/reference/generated/networkx.algorithms.centrality.in_degree_centrality.html#networkx.algorithms.centrality.in_degree_centrality)\n",
    "* [nx.centrality.out_degree_centrality](https://networkx.org/documentation/networkx-1.10/reference/generated/networkx.algorithms.centrality.out_degree_centrality.html#networkx.algorithms.centrality.out_degree_centrality)\n",
    "* [nx.centrality.closeness_centrality](https://networkx.org/documentation/networkx-1.10/reference/generated/networkx.algorithms.centrality.closeness_centrality.html#networkx.algorithms.centrality.closeness_centrality)\n",
    "* [nx.centrality.betweenness_centrality](https://networkx.org/documentation/networkx-1.10/reference/generated/networkx.algorithms.centrality.betweenness_centrality.html)\n",
    "\n",
    "(**Note:** [nx.algorithms.link_analysis.pagerank](https://networkx.org/documentation/networkx-1.10/reference/generated/networkx.algorithms.link_analysis.pagerank_alg.pagerank.html) might give a (slightly) different ranking than your own implementation of PageRank since this implementation is a bit modified. So don't take this as a 1:1 reference to check your PageRank implementation.)"
   ]
  },
  {
   "cell_type": "markdown",
   "id": "14a5f107-237f-48c0-8e59-a61db5d51354",
   "metadata": {},
   "source": [
    "#### 2.3 a) Run Off-The-Shelf Centrality Algorithms (3 Points)\n",
    "\n",
    "Run the 5 centrality measures on the MRT train network graph! Find the top-5 MRT stations with respect to their centrality scores and complete the table below. You only need to add the name of the MRT stations, not the scores. Keep in mind that different centrality measures assume a directed or undirected graph. While most algorithms will work on directed graphs, we consider the basic implementations covered in the lecture. In short, use `G_undirected` for Closeness and Betweenness.\n",
    "\n",
    "Use the code cell below to show how you get to the results; use the default values for all 5 implementations of the centrality measures.\n",
    "\n",
    "\n",
    "| Rank | PageRank    | InDegree    | OutDegree   | Closeness       | Betweenness     |\n",
    "| ---  |-------------|-------------|-------------|-----------------|-----------------|\n",
    "| 1    | outram park | outram park | outram park | stevens         | botanic gardens |\n",
    "| 2    | marina bay  | dhoby ghaut | dhoby ghaut | little india    | caldecott       |\n",
    "| 3    | woodlands   | marina bay  | marina bay  | newton          | buona vista     |\n",
    "| 4    | tampines    | stevens     | stevens     | caldecott       | bishan          |\n",
    "| 5    | dhoby ghaut | serangoon   | serangoon         | botanic gardens | newton          |"
   ]
  },
  {
   "cell_type": "code",
   "execution_count": 28,
   "id": "07f8a789-d15c-49a1-8088-e0d90b23c7c9",
   "metadata": {
    "ExecuteTime": {
     "end_time": "2023-11-10T03:12:25.799238100Z",
     "start_time": "2023-11-10T03:12:25.616296200Z"
    }
   },
   "outputs": [
    {
     "name": "stdout",
     "output_type": "stream",
     "text": [
      "#1 | PR: outram park | ID: outram park | OD: outram park | C: stevens | B: botanic gardens\n",
      "________________________________________________________________________________\n",
      "#2 | PR: marina bay | ID: dhoby ghaut | OD: dhoby ghaut | C: little india | B: caldecott\n",
      "________________________________________________________________________________\n",
      "#3 | PR: woodlands | ID: marina bay | OD: marina bay | C: newton | B: buona vista\n",
      "________________________________________________________________________________\n",
      "#4 | PR: tampines | ID: stevens | OD: stevens | C: caldecott | B: bishan\n",
      "________________________________________________________________________________\n",
      "#5 | PR: dhoby ghaut | ID: serangoon | OD: serangoon | C: botanic gardens | B: newton\n",
      "________________________________________________________________________________\n"
     ]
    }
   ],
   "source": [
    "#########################################################################################\n",
    "### Your code starts here ###############################################################\n",
    "\n",
    "# All centralities\n",
    "pagerank_centrality_scores = nx.algorithms.link_analysis.pagerank(G)\n",
    "indegree_centrality_scores = nx.centrality.in_degree_centrality(G)\n",
    "outdegree_centrality_scores = nx.centrality.out_degree_centrality(G)\n",
    "closeness_centrality_scores = nx.centrality.closeness_centrality(G_undirected)\n",
    "betweenness_centrality_scores = nx.centrality.betweenness_centrality(G_undirected)\n",
    "\n",
    "# Get the top5 ranks\n",
    "pagerank_top5 = sorted(pagerank_centrality_scores.items(), key=lambda kv: kv[1], reverse=True)[:5]\n",
    "indegree_top5 = sorted(indegree_centrality_scores.items(), key=lambda kv: kv[1], reverse=True)[:5]\n",
    "outdegree_top5 = sorted(outdegree_centrality_scores.items(), key=lambda kv: kv[1], reverse=True)[:5]\n",
    "closeness_top5 = sorted(closeness_centrality_scores.items(), key=lambda kv: kv[1], reverse=True)[:5]\n",
    "betweenness_top5 = sorted(betweenness_centrality_scores.items(), key=lambda kv: kv[1], reverse=True)[:5]\n",
    "\n",
    "# Print the values\n",
    "for idx, centralities in enumerate(zip(pagerank_top5, indegree_top5, outdegree_top5, closeness_top5, betweenness_top5)):\n",
    "    rank = idx + 1\n",
    "    p, i, o, c, b = centralities\n",
    "    print(f\"#{rank} | PR: {p[0]} | ID: {i[0]} | OD: {o[0]} | C: {c[0]} | B: {b[0]}\")\n",
    "    # print(f\"#{rank} | PR: {p[1]} | ID: {i[1]} | OD: {o[1]} | C: {c[1]} | B: {b[1]}\")\n",
    "    print(\"_\"* 80)\n",
    "\n",
    "### Your code ends here #################################################################\n",
    "#########################################################################################"
   ]
  },
  {
   "cell_type": "markdown",
   "id": "f0148221-6a5a-4b84-aebb-17ae5425c07c",
   "metadata": {},
   "source": [
    "#### 2.3 b) Discussion of Results (5 Points)\n",
    "\n",
    "Discuss the results and your observations! Based on the definitions and intuitions behind these 5 different centrality measures, discuss the results of 2.3 a): For each centrality, briefly describe what it means for a MRT station to have the highest score!\n",
    "\n",
    "**Your answer:**\n",
    "\n",
    "I. <u><b> What does each centrality measure intuitively? </b></u>\n",
    "* <b>PageRank:</b> High PageRank signifies a station's influence in the network, reflecting its connectivity and importance in connecting multiple lines or serving as a major destination.\n",
    "* <b>In-Degree:</b> High in-degree indicates that a station is a major convergence point with many lines leading to it.\n",
    "* <b>Out-Degree:</b> High out-degree implies that a station provides access to many other stations, emphasizing its role as a major interchange.\n",
    "* <b>Closeness Centrality:</b> High closeness centrality suggests that a station is centrally located, providing efficient travel to other stations.\n",
    "* <b>Betweenness Centrality:</b> High betweenness centrality indicates that a station acts as a crucial connector or bridge between different parts of the network.\n",
    "\n",
    "II. <u><b> Intepretation of results </b></u>\n",
    "\n",
    "1. <b>PageRank:</b>\n",
    "* Outram Park (1st): High PageRank indicates that Outram Park is a central hub, connecting various MRT lines. Located near the central business district, it serves as a major interchange point and medical hub with hospitals like Singapore General Hospital.\n",
    "* Marina Bay (2nd): High PageRank reflects Marina Bay's role as a major interchange station in the heart of Singapore's business and entertainment district, contributing  to its prominence and connectivity.\n",
    "* Woodlands (3rd): Woodlands' high PageRank is influenced by its status as a major interchange connecting the North-South and Thomson-East Coast Lines. The station is strategically located in the northern part of Singapore, fostering residential and commercial developments.\n",
    "* Tampines (4th): Tampines' high PageRank suggests its importance as an interchange in the eastern part of Singapore, contributing to its status as a regional center known for shopping, education, and residential developments.\n",
    "* Dhoby Ghaut (5th): Dhoby Ghaut's high PageRank signifies its central role in connecting multiple lines in the city center, contributing to its significance as a shopping and cultural hub.\n",
    "\n",
    "2. <b>In-Degree:</b>\n",
    "* Outram Park (1st): High in-degree indicates that Outram Park is a major convergence point with multiple lines leading to it. Its central location contributes to its in-degree centrality.\n",
    "* Dhoby Ghaut (2nd): Dhoby Ghaut's high in-degree reflects its role as a significant convergence point, connecting multiple lines in the city center.\n",
    "* Marina Bay (3rd): Marina Bay's high in-degree is influenced by its status as a major destination and interchange in the city center, attracting high commuter traffic.\n",
    "* Stevens (4th): Stevens' relatively high in-degree suggests its role as an interchange and convergence point, connecting different lines in the central region.\n",
    "* Serangoon (5th): Serangoon's high in-degree signifies its importance as a hub where multiple lines intersect, contributing to its connectivity.\n",
    "\n",
    "3. <b>Out-Degree:</b>\n",
    "* Outram Park (1st): High out-degree implies that Outram Park provides access to many other stations, emphasizing its role as a major interchange with extensive connectivity.\n",
    "* Dhoby Ghaut (2nd): Dhoby Ghaut's high out-degree indicates its function as a hub connecting to various other stations, facilitating travel across the network.\n",
    "* Marina Bay (3rd): Marina Bay's high out-degree signifies its role in offering connectivity to multiple destinations, contributing to its importance.\n",
    "* Stevens (4th): Stevens' relatively high out-degree suggests that it provides access to different parts of the network, serving as a central point for travelers.\n",
    "* Serangoon (5th): Serangoon's high out-degree indicates its significance as a station with multiple outgoing connections, facilitating travel to various destinations.\n",
    "\n",
    "4. <b>Closeness Centrality:</b>\n",
    "* Stevens (1st): High closeness centrality indicates that Stevens is centrally located, providing efficient travel to other stations in the MRT system. It is situated in the Bukit Timah area known for its residential developments and green spaces.\n",
    "* Little India (2nd): Little India's high closeness centrality suggests its central location and efficiency in reaching other stations. The station is located in the vibrant Little India district, known for its cultural richness and markets.\n",
    "* Newton (3rd): Newton's high closeness centrality reflects its central location, allowing for quick travel to other parts of the network. It is situated in a residential area known for its historic architecture.\n",
    "* Caldecott (4th): Caldecott's relatively high closeness centrality indicates its well-positioned location for efficient travel within the MRT system. It is situated near the MacRitchie Reservoir, contributing to a mix of residential and natural surroundings.\n",
    "* Botanic Gardens (5th): Botanic Gardens' high closeness centrality indicates its central location and efficiency in reaching other stations. The station is located in the UNESCO-listed Singapore Botanic Gardens, enhancing its significance.\n",
    "\n",
    "5. <b>Betweenness Centrality:</b>\n",
    "* Botanic Gardens (1st): High betweenness centrality suggests that Botanic Gardens acts as a crucial connector between different parts of the MRT network. Its location near the Singapore Botanic Gardens adds to its significance.\n",
    "* Caldecott (2nd): Caldecott's high betweenness centrality suggests its role as a bridge connecting different sections of the network. It is located near the Caldecott Broadcast Centre and Toa Payoh Town Park.\n",
    "* Buona Vista (3rd): Buona Vista's high betweenness centrality indicates its role as a bridge between different parts of the network. It is located near one-north, a research and business park.\n",
    "* Bishan (4th): Bishan's relatively high betweenness centrality suggests its significance in connecting different paths in the MRT system. It is located in a residential area with proximity to Bishan-Ang Mo Kio Park.\n",
    "* Newton (5th): Newton's high betweenness centrality indicates its importance in facilitating travel between various stations. It is located near the Orchard Road shopping district.\n"
   ]
  },
  {
   "cell_type": "markdown",
   "id": "944177f5-b9a1-4b00-9294-cbe0b772fae0",
   "metadata": {},
   "source": []
  }
 ],
 "metadata": {
  "kernelspec": {
   "name": "python3",
   "language": "python",
   "display_name": "Python 3 (ipykernel)"
  },
  "language_info": {
   "codemirror_mode": {
    "name": "ipython",
    "version": 3
   },
   "file_extension": ".py",
   "mimetype": "text/x-python",
   "name": "python",
   "nbconvert_exporter": "python",
   "pygments_lexer": "ipython3",
   "version": "3.10.13"
  }
 },
 "nbformat": 4,
 "nbformat_minor": 5
}
